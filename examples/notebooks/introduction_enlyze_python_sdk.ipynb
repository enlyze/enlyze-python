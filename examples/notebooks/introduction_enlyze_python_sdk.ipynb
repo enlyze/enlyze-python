{
 "cells": [
  {
   "cell_type": "markdown",
   "id": "075c41c6-ea51-4542-a1c2-7a403a389b27",
   "metadata": {},
   "source": [
    "# Introduction to the ENLYZE Python SDK\n",
    "---\n",
    "This guide introduces you to the concepts of the ENLYZE platform and shows you how they are implemented in the Python SDK.\n",
    "We will use the SDK to query information about different locations and appliances (machines), and ultimately query time series data of one appliance to further analyze and process it. \n",
    "\n",
    "In the second half, we will query production runs and OEE KPIs and prepare the data to be exported to Excel or used by Power BI.\n",
    "\n",
    "All is based on our demo organization, which represents an imaginary company with several locations, exemplary appliances and dummy time series data."
   ]
  },
  {
   "cell_type": "markdown",
   "id": "a09447e1-85e5-4942-8855-3281ba81cee9",
   "metadata": {},
   "source": [
    "## Installation\n",
    "\n",
    "The [enlyze-python package](https://github.com/enlyze/enlyze-python) is an open-source package that can be directly installed via pip. The full documentation of the SDK can be found [here](https://enlyze-python.readthedocs.io/en/latest/) and also provides a detailed installation guide for macOS/Linux and Windows.\n",
    "\n",
    "In short, all you need to do is run the following command in your shell. You can install it globally or in a virtualenv.\n",
    "\n",
    "```bash\n",
    "$ pip install enlyze\n",
    "```\n",
    "\n",
    "Installing the enlyze package will install all the required dependencies and would be enough to interact with the platform and process the data. But we will explore some more options within this tutorial, so if you want to follow along, you need to install the following additional packages:\n",
    "\n",
    "    # loading secrets from .env files\n",
    "    pip install python-dotenv\n",
    "\n",
    "    # visualization\n",
    "    pip install matplotlib\n",
    "    pip install seaborn\n",
    "\n",
    "    # saving data to excel\n",
    "    pip install openpyxl"
   ]
  },
  {
   "cell_type": "markdown",
   "id": "0479401f-b1cb-4ca4-82c5-f465147ac2d1",
   "metadata": {},
   "source": [
    "## General imports"
   ]
  },
  {
   "cell_type": "code",
   "execution_count": 1,
   "id": "319ab2b0-4a7c-4d57-8d64-9de3d46f4bcb",
   "metadata": {},
   "outputs": [],
   "source": [
    "%load_ext dotenv\n",
    "%dotenv ../.env"
   ]
  },
  {
   "cell_type": "code",
   "execution_count": 2,
   "id": "38f10cf7-c76c-4c05-818c-964e96a4ed08",
   "metadata": {},
   "outputs": [],
   "source": [
    "import os\n",
    "\n",
    "from datetime import datetime\n",
    "\n",
    "# To plot pretty figures\n",
    "%matplotlib inline\n",
    "import matplotlib as mpl\n",
    "import matplotlib.pyplot as plt\n",
    "mpl.rc(\"axes\", labelsize=14)\n",
    "mpl.rc(\"xtick\", labelsize=12)\n",
    "mpl.rc(\"ytick\", labelsize=12)\n",
    "mpl.rc(\"legend\",fontsize=12)\n",
    "mpl.rc(\"axes\", titlesize=14)\n",
    "\n",
    "import pandas as pd\n",
    "# To display large DataFrames\n",
    "pd.options.display.max_rows = 100\n",
    "\n",
    "# Set the color schema\n",
    "import seaborn as sns\n",
    "sns.set_style(\"whitegrid\")"
   ]
  },
  {
   "cell_type": "markdown",
   "id": "ed277287-997d-4fb3-844c-26169850c140",
   "metadata": {},
   "source": [
    "## Client setup"
   ]
  },
  {
   "cell_type": "markdown",
   "id": "283dd0fc-e802-4b4d-a621-c154f860302a",
   "metadata": {},
   "source": [
    "The only thing you need to interact with the ENLYZE platform is an API token. Reach out to us if you haven't received one already. This token will give you access to all the data of your organization, so please keep it safe! In case you have lost your token or you think it might have been compromised please reach out to us as well.\n",
    "\n",
    "**Store your secrets and config variables in a special file**  \n",
    "You don't want to leak your token on Github or any other version control system. One way to do this is to create a `.env` file in your project root folder and store your token and other secrets in it. Make sure to add it to your `.gitignore` file, so it is kept out of version control. Here is an example:\n",
    "\n",
    "```\n",
    "# example .env file\n",
    "ENLYZE_API_TOKEN=\"XXX\"\n",
    "```\n",
    "\n",
    "You can then use a package to load these variabels automatically. Here we are using a package called [python-dotenv](https://github.com/theskumar/python-dotenv). \n",
    "It loads up all the entries in this file as environment variables so they are accessible with `os.environ.get`/`os.getenv`.\n",
    "\n",
    "This happend a few cells above with the commands:\n",
    "\n",
    "```python\n",
    "%load_ext dotenv\n",
    "%dotenv ../.env-demo\n",
    "```\n",
    "\n",
    "Now, since the token is stored in an environment variable, we can use it to set up our client:"
   ]
  },
  {
   "cell_type": "code",
   "execution_count": 3,
   "id": "e7569b68-8c4b-4ec8-90ba-1854be649ab1",
   "metadata": {},
   "outputs": [],
   "source": [
    "from enlyze import EnlyzeClient"
   ]
  },
  {
   "cell_type": "code",
   "execution_count": 4,
   "id": "41606c72-52fd-4156-b45b-bdcd2835a67a",
   "metadata": {},
   "outputs": [],
   "source": [
    "enlyze = EnlyzeClient(os.getenv(\"ENLYZE_API_TOKEN\"))"
   ]
  },
  {
   "cell_type": "markdown",
   "id": "1be58d63-b9e6-4037-abd5-870e2fdac2be",
   "metadata": {},
   "source": [
    "## Sites, Appliances (Machines), and Variables\n",
    "\n",
    "These three are the core models to interact with the platform. An organization consists of one or multiple sites, which again hold one or multiple appliances. Each appliance has then a set of variables. A variable represents a process measure of one appliance of which timeseries data is captured and stored in the ENLYZE platform. One appliance can have many variables, whereas one variable is only associated with one appliance.\n",
    "\n",
    "To get variables, we need to traverse down this tree until we get and select the variables we want, and then use these variables to query their data.\n",
    "\n",
    "There are different ways how this can be done, but for now, we will simply go from top to bottom."
   ]
  },
  {
   "cell_type": "code",
   "execution_count": 5,
   "id": "a2f84359-c596-4d6c-b774-cf3f974dc72b",
   "metadata": {},
   "outputs": [],
   "source": [
    "from enlyze.models import Site, Appliance, Variable"
   ]
  },
  {
   "cell_type": "markdown",
   "id": "ca474120-c510-4f54-9345-f11808395324",
   "metadata": {},
   "source": [
    "### Sites\n",
    "\n",
    "A list of all sites can be fetched by using the `get_sites` method:"
   ]
  },
  {
   "cell_type": "code",
   "execution_count": 6,
   "id": "e4b1d442-2521-49a8-8a67-468e8e96ea1e",
   "metadata": {},
   "outputs": [
    {
     "data": {
      "text/plain": [
       "[Site(_id=49, display_name='Platform', address='Maybachstrasse 156'),\n",
       " Site(_id=32, display_name='Köln', address='Heliosstrasse 6a'),\n",
       " Site(_id=35, display_name='Stuttgart', address='Mahlestrasse 67')]"
      ]
     },
     "execution_count": 6,
     "metadata": {},
     "output_type": "execute_result"
    }
   ],
   "source": [
    "sites = enlyze.get_sites()\n",
    "sites"
   ]
  },
  {
   "cell_type": "markdown",
   "id": "bb02f9a1-3c75-46e0-b925-a55cc6827aeb",
   "metadata": {},
   "source": [
    "<div class=\"alert alert-block alert-info\">\n",
    "<b>Side note:</b> data analysis in Python 🫶 pandas\n",
    "</div>"
   ]
  },
  {
   "cell_type": "markdown",
   "id": "0e44713b-9a76-45c6-abbb-813a6c781f93",
   "metadata": {},
   "source": [
    "If you are new to processing data in Python, you will inevitably come across pandas and pandas DataFrames. [Pandas](https://pandas.pydata.org/docs/index.html) is a great, open-source library providing high-performance, easy-to-use data structures and data analysis tools for the [Python](https://www.python.org/) programming language.\n",
    "\n",
    "Due to its many advantages for data processing and widespread use in the Python ecosystem, it is already part of the enlyze package and is installed alongside as a requirement.\n",
    "\n",
    "Especially in [Jupyter Notebooks](https://jupyterlab.readthedocs.io/en/stable/getting_started/overview.html) it makes working with and visualizing data straightforward. You will notice that models (Site, Appliances, Variables etc.) have different attributes and are often returned in a list. For a few models and properties, printing the list in its raw form is still sufficient. But we soon reach the limits, and it becomes confusing and unmanageable. For this, we have this small utility function `models_to_dataframe` that takes a list of models and returns them as a DataFrame. This makes it a lot easier to explore data."
   ]
  },
  {
   "cell_type": "code",
   "execution_count": 7,
   "id": "80593ce2-f90c-407f-92cc-12d04d8f75f3",
   "metadata": {},
   "outputs": [],
   "source": [
    "def models_to_dataframe(models: list):\n",
    "    \"\"\"Convert a list of enlyze models to a DataFrame\"\"\"\n",
    "    return pd.DataFrame([m.__dict__ for m in models])\n",
    "    "
   ]
  },
  {
   "cell_type": "code",
   "execution_count": 8,
   "id": "001cd893-d5a1-4c1a-a24a-b8c3468e03f8",
   "metadata": {},
   "outputs": [
    {
     "data": {
      "text/html": [
       "<div>\n",
       "<style scoped>\n",
       "    .dataframe tbody tr th:only-of-type {\n",
       "        vertical-align: middle;\n",
       "    }\n",
       "\n",
       "    .dataframe tbody tr th {\n",
       "        vertical-align: top;\n",
       "    }\n",
       "\n",
       "    .dataframe thead th {\n",
       "        text-align: right;\n",
       "    }\n",
       "</style>\n",
       "<table border=\"1\" class=\"dataframe\">\n",
       "  <thead>\n",
       "    <tr style=\"text-align: right;\">\n",
       "      <th></th>\n",
       "      <th>_id</th>\n",
       "      <th>display_name</th>\n",
       "      <th>address</th>\n",
       "    </tr>\n",
       "  </thead>\n",
       "  <tbody>\n",
       "    <tr>\n",
       "      <th>0</th>\n",
       "      <td>49</td>\n",
       "      <td>Platform</td>\n",
       "      <td>Maybachstrasse 156</td>\n",
       "    </tr>\n",
       "    <tr>\n",
       "      <th>1</th>\n",
       "      <td>32</td>\n",
       "      <td>Köln</td>\n",
       "      <td>Heliosstrasse 6a</td>\n",
       "    </tr>\n",
       "    <tr>\n",
       "      <th>2</th>\n",
       "      <td>35</td>\n",
       "      <td>Stuttgart</td>\n",
       "      <td>Mahlestrasse 67</td>\n",
       "    </tr>\n",
       "  </tbody>\n",
       "</table>\n",
       "</div>"
      ],
      "text/plain": [
       "   _id display_name             address\n",
       "0   49     Platform  Maybachstrasse 156\n",
       "1   32         Köln    Heliosstrasse 6a\n",
       "2   35    Stuttgart     Mahlestrasse 67"
      ]
     },
     "execution_count": 8,
     "metadata": {},
     "output_type": "execute_result"
    }
   ],
   "source": [
    "models_to_dataframe(sites)"
   ]
  },
  {
   "cell_type": "markdown",
   "id": "39500780-f10d-40b8-b1b8-4fa931c42171",
   "metadata": {},
   "source": [
    "We will pick a site by selecting an element from the list."
   ]
  },
  {
   "cell_type": "code",
   "execution_count": 9,
   "id": "95f3ba77-25d1-4dff-add5-d15f65d84416",
   "metadata": {},
   "outputs": [
    {
     "data": {
      "text/plain": [
       "Site(_id=32, display_name='Köln', address='Heliosstrasse 6a')"
      ]
     },
     "execution_count": 9,
     "metadata": {},
     "output_type": "execute_result"
    }
   ],
   "source": [
    "site = sites[1]\n",
    "site"
   ]
  },
  {
   "cell_type": "markdown",
   "id": "734921aa-f1c8-4254-9569-74f7e90e7db4",
   "metadata": {},
   "source": [
    "### Appliances"
   ]
  },
  {
   "cell_type": "markdown",
   "id": "1aae646d-d47b-434e-a90e-daec386a6802",
   "metadata": {},
   "source": [
    "We can get a list of all appliances by using the `get_appliances` method. Optionally, we can pass a site to the function to filter by it."
   ]
  },
  {
   "cell_type": "code",
   "execution_count": 10,
   "id": "4f26f753-8a64-4950-9dab-ca7f6409e81d",
   "metadata": {},
   "outputs": [
    {
     "data": {
      "text/html": [
       "<div>\n",
       "<style scoped>\n",
       "    .dataframe tbody tr th:only-of-type {\n",
       "        vertical-align: middle;\n",
       "    }\n",
       "\n",
       "    .dataframe tbody tr th {\n",
       "        vertical-align: top;\n",
       "    }\n",
       "\n",
       "    .dataframe thead th {\n",
       "        text-align: right;\n",
       "    }\n",
       "</style>\n",
       "<table border=\"1\" class=\"dataframe\">\n",
       "  <thead>\n",
       "    <tr style=\"text-align: right;\">\n",
       "      <th></th>\n",
       "      <th>uuid</th>\n",
       "      <th>display_name</th>\n",
       "      <th>genesis_date</th>\n",
       "      <th>site</th>\n",
       "    </tr>\n",
       "  </thead>\n",
       "  <tbody>\n",
       "    <tr>\n",
       "      <th>0</th>\n",
       "      <td>fafdee59-933b-40bc-b3ce-c59c7363e358</td>\n",
       "      <td>PLC Rack</td>\n",
       "      <td>2023-03-21</td>\n",
       "      <td>Site(_id=49, display_name='Platform', address=...</td>\n",
       "    </tr>\n",
       "    <tr>\n",
       "      <th>1</th>\n",
       "      <td>22a71d1e-8262-4c27-b5fb-66598027936a</td>\n",
       "      <td>W&amp;H Varex</td>\n",
       "      <td>2022-03-18</td>\n",
       "      <td>Site(_id=32, display_name='Köln', address='Hel...</td>\n",
       "    </tr>\n",
       "    <tr>\n",
       "      <th>2</th>\n",
       "      <td>cc0d2dcb-564b-48cd-a342-71765a536058</td>\n",
       "      <td>Macchi</td>\n",
       "      <td>2021-01-15</td>\n",
       "      <td>Site(_id=32, display_name='Köln', address='Hel...</td>\n",
       "    </tr>\n",
       "    <tr>\n",
       "      <th>3</th>\n",
       "      <td>141e0927-62b3-4e76-8398-ad82d20f397f</td>\n",
       "      <td>Kiefel</td>\n",
       "      <td>2020-08-26</td>\n",
       "      <td>Site(_id=32, display_name='Köln', address='Hel...</td>\n",
       "    </tr>\n",
       "    <tr>\n",
       "      <th>4</th>\n",
       "      <td>f5c0b9d4-e89e-43ad-b81c-16bd5cbe3646</td>\n",
       "      <td>Reifenhäuser</td>\n",
       "      <td>2021-01-21</td>\n",
       "      <td>Site(_id=35, display_name='Stuttgart', address...</td>\n",
       "    </tr>\n",
       "    <tr>\n",
       "      <th>5</th>\n",
       "      <td>0eba5355-1dc2-49d5-b539-2ca191dadb76</td>\n",
       "      <td>Alpine</td>\n",
       "      <td>2021-01-15</td>\n",
       "      <td>Site(_id=35, display_name='Stuttgart', address...</td>\n",
       "    </tr>\n",
       "  </tbody>\n",
       "</table>\n",
       "</div>"
      ],
      "text/plain": [
       "                                   uuid  display_name genesis_date  \\\n",
       "0  fafdee59-933b-40bc-b3ce-c59c7363e358      PLC Rack   2023-03-21   \n",
       "1  22a71d1e-8262-4c27-b5fb-66598027936a     W&H Varex   2022-03-18   \n",
       "2  cc0d2dcb-564b-48cd-a342-71765a536058        Macchi   2021-01-15   \n",
       "3  141e0927-62b3-4e76-8398-ad82d20f397f        Kiefel   2020-08-26   \n",
       "4  f5c0b9d4-e89e-43ad-b81c-16bd5cbe3646  Reifenhäuser   2021-01-21   \n",
       "5  0eba5355-1dc2-49d5-b539-2ca191dadb76        Alpine   2021-01-15   \n",
       "\n",
       "                                                site  \n",
       "0  Site(_id=49, display_name='Platform', address=...  \n",
       "1  Site(_id=32, display_name='Köln', address='Hel...  \n",
       "2  Site(_id=32, display_name='Köln', address='Hel...  \n",
       "3  Site(_id=32, display_name='Köln', address='Hel...  \n",
       "4  Site(_id=35, display_name='Stuttgart', address...  \n",
       "5  Site(_id=35, display_name='Stuttgart', address...  "
      ]
     },
     "execution_count": 10,
     "metadata": {},
     "output_type": "execute_result"
    }
   ],
   "source": [
    "models_to_dataframe(enlyze.get_appliances())"
   ]
  },
  {
   "cell_type": "markdown",
   "id": "4c378054-420f-405f-a033-1270e948d538",
   "metadata": {},
   "source": [
    "Filtering by site will only return the respective appliances:"
   ]
  },
  {
   "cell_type": "code",
   "execution_count": 11,
   "id": "0957caa7-f777-4ebe-878d-dc92d799ccc0",
   "metadata": {},
   "outputs": [
    {
     "data": {
      "text/html": [
       "<div>\n",
       "<style scoped>\n",
       "    .dataframe tbody tr th:only-of-type {\n",
       "        vertical-align: middle;\n",
       "    }\n",
       "\n",
       "    .dataframe tbody tr th {\n",
       "        vertical-align: top;\n",
       "    }\n",
       "\n",
       "    .dataframe thead th {\n",
       "        text-align: right;\n",
       "    }\n",
       "</style>\n",
       "<table border=\"1\" class=\"dataframe\">\n",
       "  <thead>\n",
       "    <tr style=\"text-align: right;\">\n",
       "      <th></th>\n",
       "      <th>uuid</th>\n",
       "      <th>display_name</th>\n",
       "      <th>genesis_date</th>\n",
       "      <th>site</th>\n",
       "    </tr>\n",
       "  </thead>\n",
       "  <tbody>\n",
       "    <tr>\n",
       "      <th>0</th>\n",
       "      <td>22a71d1e-8262-4c27-b5fb-66598027936a</td>\n",
       "      <td>W&amp;H Varex</td>\n",
       "      <td>2022-03-18</td>\n",
       "      <td>Site(_id=32, display_name='Köln', address='Hel...</td>\n",
       "    </tr>\n",
       "    <tr>\n",
       "      <th>1</th>\n",
       "      <td>cc0d2dcb-564b-48cd-a342-71765a536058</td>\n",
       "      <td>Macchi</td>\n",
       "      <td>2021-01-15</td>\n",
       "      <td>Site(_id=32, display_name='Köln', address='Hel...</td>\n",
       "    </tr>\n",
       "    <tr>\n",
       "      <th>2</th>\n",
       "      <td>141e0927-62b3-4e76-8398-ad82d20f397f</td>\n",
       "      <td>Kiefel</td>\n",
       "      <td>2020-08-26</td>\n",
       "      <td>Site(_id=32, display_name='Köln', address='Hel...</td>\n",
       "    </tr>\n",
       "  </tbody>\n",
       "</table>\n",
       "</div>"
      ],
      "text/plain": [
       "                                   uuid display_name genesis_date  \\\n",
       "0  22a71d1e-8262-4c27-b5fb-66598027936a    W&H Varex   2022-03-18   \n",
       "1  cc0d2dcb-564b-48cd-a342-71765a536058       Macchi   2021-01-15   \n",
       "2  141e0927-62b3-4e76-8398-ad82d20f397f       Kiefel   2020-08-26   \n",
       "\n",
       "                                                site  \n",
       "0  Site(_id=32, display_name='Köln', address='Hel...  \n",
       "1  Site(_id=32, display_name='Köln', address='Hel...  \n",
       "2  Site(_id=32, display_name='Köln', address='Hel...  "
      ]
     },
     "execution_count": 11,
     "metadata": {},
     "output_type": "execute_result"
    }
   ],
   "source": [
    "cologne_appliances = enlyze.get_appliances(site=site)\n",
    "models_to_dataframe(cologne_appliances)"
   ]
  },
  {
   "cell_type": "markdown",
   "id": "c6a57053-edac-4fcc-b3df-795ff9441d42",
   "metadata": {},
   "source": [
    "**Selecting an appliance by UUID**\n",
    "\n",
    "A more reliable way to select an appliance from the list is filtering by `UUID`. Attributes like the name may change over time, but the assigned `UUID` will stay unchanged."
   ]
  },
  {
   "cell_type": "code",
   "execution_count": 12,
   "id": "ec91bd4f-0819-46a1-8738-c09839315bd0",
   "metadata": {},
   "outputs": [],
   "source": [
    "from uuid import UUID"
   ]
  },
  {
   "cell_type": "code",
   "execution_count": 13,
   "id": "d95c523e-78f9-4c68-ae0f-e1fc77cca9bb",
   "metadata": {},
   "outputs": [],
   "source": [
    "APPLIANCE_UUID = UUID(\"22a71d1e-8262-4c27-b5fb-66598027936a\")"
   ]
  },
  {
   "cell_type": "markdown",
   "id": "2daff658-0ed4-4564-8a9f-b182cbbc436a",
   "metadata": {},
   "source": [
    "We can create a function, that returns the appliance, if it matches the UUID:"
   ]
  },
  {
   "cell_type": "code",
   "execution_count": 14,
   "id": "c920fd8d-bc74-4c0b-ab78-d6f5651dcba1",
   "metadata": {},
   "outputs": [],
   "source": [
    "def get_appliance_by_uuid(uuid: UUID, appliances: list[Appliance]):\n",
    "    for appliance in appliances:\n",
    "        if appliance.uuid == uuid:\n",
    "            return appliance\n",
    "            "
   ]
  },
  {
   "cell_type": "code",
   "execution_count": 15,
   "id": "e0507860-468a-4923-a28b-861361355b5e",
   "metadata": {},
   "outputs": [
    {
     "data": {
      "text/plain": [
       "Appliance(uuid=UUID('22a71d1e-8262-4c27-b5fb-66598027936a'), display_name='W&H Varex', genesis_date=datetime.date(2022, 3, 18), site=Site(_id=32, display_name='Köln', address='Heliosstrasse 6a'))"
      ]
     },
     "execution_count": 15,
     "metadata": {},
     "output_type": "execute_result"
    }
   ],
   "source": [
    "get_appliance_by_uuid(APPLIANCE_UUID, cologne_appliances)"
   ]
  },
  {
   "cell_type": "markdown",
   "id": "4cdacd41-eb81-4cf8-b8b8-383e421cf4d5",
   "metadata": {},
   "source": [
    "Or we can use Python's built-in `filter()` method, more compact but less readable:"
   ]
  },
  {
   "cell_type": "code",
   "execution_count": 16,
   "id": "1ec26d71-2a44-427b-a4fb-ed05e92a539c",
   "metadata": {},
   "outputs": [
    {
     "data": {
      "text/plain": [
       "Appliance(uuid=UUID('22a71d1e-8262-4c27-b5fb-66598027936a'), display_name='W&H Varex', genesis_date=datetime.date(2022, 3, 18), site=Site(_id=32, display_name='Köln', address='Heliosstrasse 6a'))"
      ]
     },
     "execution_count": 16,
     "metadata": {},
     "output_type": "execute_result"
    }
   ],
   "source": [
    "results = filter(lambda a: a.uuid == APPLIANCE_UUID, cologne_appliances)\n",
    "appliance = next(results)\n",
    "\n",
    "appliance"
   ]
  },
  {
   "cell_type": "markdown",
   "id": "09c87deb-7054-441d-893d-8b501abbb23f",
   "metadata": {},
   "source": [
    "### Variables\n",
    "\n",
    "The last step we need to make is getting the variables for an appliance. We use the `get_variables`method, which always requires the specification of an appliance."
   ]
  },
  {
   "cell_type": "code",
   "execution_count": 17,
   "id": "b45c1a3a-65e1-4ba0-8a5e-11d569ae4e9e",
   "metadata": {},
   "outputs": [],
   "source": [
    "variables = enlyze.get_variables(appliance)"
   ]
  },
  {
   "cell_type": "code",
   "execution_count": 18,
   "id": "81293554-d4a6-4d41-a9fe-5a858dfc8f30",
   "metadata": {},
   "outputs": [],
   "source": [
    "variables_df = models_to_dataframe(variables)"
   ]
  },
  {
   "cell_type": "code",
   "execution_count": 19,
   "id": "8624057f-f070-46a0-b1a6-33ae30cf3745",
   "metadata": {},
   "outputs": [
    {
     "data": {
      "text/html": [
       "<div>\n",
       "<style scoped>\n",
       "    .dataframe tbody tr th:only-of-type {\n",
       "        vertical-align: middle;\n",
       "    }\n",
       "\n",
       "    .dataframe tbody tr th {\n",
       "        vertical-align: top;\n",
       "    }\n",
       "\n",
       "    .dataframe thead th {\n",
       "        text-align: right;\n",
       "    }\n",
       "</style>\n",
       "<table border=\"1\" class=\"dataframe\">\n",
       "  <thead>\n",
       "    <tr style=\"text-align: right;\">\n",
       "      <th></th>\n",
       "      <th>uuid</th>\n",
       "      <th>display_name</th>\n",
       "      <th>unit</th>\n",
       "      <th>data_type</th>\n",
       "      <th>appliance</th>\n",
       "    </tr>\n",
       "  </thead>\n",
       "  <tbody>\n",
       "    <tr>\n",
       "      <th>0</th>\n",
       "      <td>03e13e36-3a5f-4d9b-babf-58da68cde23f</td>\n",
       "      <td>Extruder C Schneckenumdrehung</td>\n",
       "      <td>1/min</td>\n",
       "      <td>VariableDataType.INTEGER</td>\n",
       "      <td>Appliance(uuid=UUID('22a71d1e-8262-4c27-b5fb-6...</td>\n",
       "    </tr>\n",
       "    <tr>\n",
       "      <th>1</th>\n",
       "      <td>063e9d4a-1687-4d7e-95e3-fdd56be1c68c</td>\n",
       "      <td>Extruder A Schmelzedruck</td>\n",
       "      <td>bar</td>\n",
       "      <td>VariableDataType.INTEGER</td>\n",
       "      <td>Appliance(uuid=UUID('22a71d1e-8262-4c27-b5fb-6...</td>\n",
       "    </tr>\n",
       "    <tr>\n",
       "      <th>2</th>\n",
       "      <td>07420ec1-76da-4288-b9ee-b14891005144</td>\n",
       "      <td>Extruder C Schmelzedruck</td>\n",
       "      <td>bar</td>\n",
       "      <td>VariableDataType.INTEGER</td>\n",
       "      <td>Appliance(uuid=UUID('22a71d1e-8262-4c27-b5fb-6...</td>\n",
       "    </tr>\n",
       "    <tr>\n",
       "      <th>3</th>\n",
       "      <td>094853e6-702d-43ab-a612-15ea0dfc90c3</td>\n",
       "      <td>Extruder I Schneckenumdrehung</td>\n",
       "      <td>1/min</td>\n",
       "      <td>VariableDataType.INTEGER</td>\n",
       "      <td>Appliance(uuid=UUID('22a71d1e-8262-4c27-b5fb-6...</td>\n",
       "    </tr>\n",
       "    <tr>\n",
       "      <th>4</th>\n",
       "      <td>0b8af028-7bea-4b71-8719-48bb8c57505d</td>\n",
       "      <td>Anzahl Messungen</td>\n",
       "      <td>n</td>\n",
       "      <td>VariableDataType.INTEGER</td>\n",
       "      <td>Appliance(uuid=UUID('22a71d1e-8262-4c27-b5fb-6...</td>\n",
       "    </tr>\n",
       "  </tbody>\n",
       "</table>\n",
       "</div>"
      ],
      "text/plain": [
       "                                   uuid                   display_name   unit  \\\n",
       "0  03e13e36-3a5f-4d9b-babf-58da68cde23f  Extruder C Schneckenumdrehung  1/min   \n",
       "1  063e9d4a-1687-4d7e-95e3-fdd56be1c68c       Extruder A Schmelzedruck    bar   \n",
       "2  07420ec1-76da-4288-b9ee-b14891005144       Extruder C Schmelzedruck    bar   \n",
       "3  094853e6-702d-43ab-a612-15ea0dfc90c3  Extruder I Schneckenumdrehung  1/min   \n",
       "4  0b8af028-7bea-4b71-8719-48bb8c57505d               Anzahl Messungen      n   \n",
       "\n",
       "                  data_type                                          appliance  \n",
       "0  VariableDataType.INTEGER  Appliance(uuid=UUID('22a71d1e-8262-4c27-b5fb-6...  \n",
       "1  VariableDataType.INTEGER  Appliance(uuid=UUID('22a71d1e-8262-4c27-b5fb-6...  \n",
       "2  VariableDataType.INTEGER  Appliance(uuid=UUID('22a71d1e-8262-4c27-b5fb-6...  \n",
       "3  VariableDataType.INTEGER  Appliance(uuid=UUID('22a71d1e-8262-4c27-b5fb-6...  \n",
       "4  VariableDataType.INTEGER  Appliance(uuid=UUID('22a71d1e-8262-4c27-b5fb-6...  "
      ]
     },
     "execution_count": 19,
     "metadata": {},
     "output_type": "execute_result"
    }
   ],
   "source": [
    "variables_df.head()"
   ]
  },
  {
   "cell_type": "code",
   "execution_count": 20,
   "id": "c3f9cd8a-5880-40d0-9fdf-d38fdf79065e",
   "metadata": {},
   "outputs": [],
   "source": [
    "variables_df = (\n",
    "    variables_df\n",
    "    .sort_values(by=\"display_name\")\n",
    "    .reset_index(drop=True)\n",
    ")"
   ]
  },
  {
   "cell_type": "code",
   "execution_count": 21,
   "id": "0e5a8384-0812-4a30-979d-68f013658e0c",
   "metadata": {},
   "outputs": [
    {
     "data": {
      "text/html": [
       "<div>\n",
       "<style scoped>\n",
       "    .dataframe tbody tr th:only-of-type {\n",
       "        vertical-align: middle;\n",
       "    }\n",
       "\n",
       "    .dataframe tbody tr th {\n",
       "        vertical-align: top;\n",
       "    }\n",
       "\n",
       "    .dataframe thead th {\n",
       "        text-align: right;\n",
       "    }\n",
       "</style>\n",
       "<table border=\"1\" class=\"dataframe\">\n",
       "  <thead>\n",
       "    <tr style=\"text-align: right;\">\n",
       "      <th></th>\n",
       "      <th>uuid</th>\n",
       "      <th>display_name</th>\n",
       "      <th>unit</th>\n",
       "      <th>data_type</th>\n",
       "      <th>appliance</th>\n",
       "    </tr>\n",
       "  </thead>\n",
       "  <tbody>\n",
       "    <tr>\n",
       "      <th>0</th>\n",
       "      <td>84802f7e-96a5-4e81-a61d-2c9c133bc58c</td>\n",
       "      <td>2-Sigma</td>\n",
       "      <td>%</td>\n",
       "      <td>VariableDataType.FLOAT</td>\n",
       "      <td>Appliance(uuid=UUID('22a71d1e-8262-4c27-b5fb-6...</td>\n",
       "    </tr>\n",
       "    <tr>\n",
       "      <th>1</th>\n",
       "      <td>163fb0cc-0e24-4092-8873-775ea9daccad</td>\n",
       "      <td>Abzugsgeschwindigkeit</td>\n",
       "      <td>m/min</td>\n",
       "      <td>VariableDataType.INTEGER</td>\n",
       "      <td>Appliance(uuid=UUID('22a71d1e-8262-4c27-b5fb-6...</td>\n",
       "    </tr>\n",
       "    <tr>\n",
       "      <th>2</th>\n",
       "      <td>0b8af028-7bea-4b71-8719-48bb8c57505d</td>\n",
       "      <td>Anzahl Messungen</td>\n",
       "      <td>n</td>\n",
       "      <td>VariableDataType.INTEGER</td>\n",
       "      <td>Appliance(uuid=UUID('22a71d1e-8262-4c27-b5fb-6...</td>\n",
       "    </tr>\n",
       "    <tr>\n",
       "      <th>3</th>\n",
       "      <td>f0e3d6cc-d302-4b0f-a660-8217f1b5d1ea</td>\n",
       "      <td>Durchsatz</td>\n",
       "      <td>kg/h</td>\n",
       "      <td>VariableDataType.INTEGER</td>\n",
       "      <td>Appliance(uuid=UUID('22a71d1e-8262-4c27-b5fb-6...</td>\n",
       "    </tr>\n",
       "    <tr>\n",
       "      <th>4</th>\n",
       "      <td>378f5c4f-958e-4d72-98dc-88b6ac700b4b</td>\n",
       "      <td>Extruder A Durchsatz</td>\n",
       "      <td>kg/h</td>\n",
       "      <td>VariableDataType.INTEGER</td>\n",
       "      <td>Appliance(uuid=UUID('22a71d1e-8262-4c27-b5fb-6...</td>\n",
       "    </tr>\n",
       "  </tbody>\n",
       "</table>\n",
       "</div>"
      ],
      "text/plain": [
       "                                   uuid           display_name   unit  \\\n",
       "0  84802f7e-96a5-4e81-a61d-2c9c133bc58c                2-Sigma      %   \n",
       "1  163fb0cc-0e24-4092-8873-775ea9daccad  Abzugsgeschwindigkeit  m/min   \n",
       "2  0b8af028-7bea-4b71-8719-48bb8c57505d       Anzahl Messungen      n   \n",
       "3  f0e3d6cc-d302-4b0f-a660-8217f1b5d1ea              Durchsatz   kg/h   \n",
       "4  378f5c4f-958e-4d72-98dc-88b6ac700b4b   Extruder A Durchsatz   kg/h   \n",
       "\n",
       "                  data_type                                          appliance  \n",
       "0    VariableDataType.FLOAT  Appliance(uuid=UUID('22a71d1e-8262-4c27-b5fb-6...  \n",
       "1  VariableDataType.INTEGER  Appliance(uuid=UUID('22a71d1e-8262-4c27-b5fb-6...  \n",
       "2  VariableDataType.INTEGER  Appliance(uuid=UUID('22a71d1e-8262-4c27-b5fb-6...  \n",
       "3  VariableDataType.INTEGER  Appliance(uuid=UUID('22a71d1e-8262-4c27-b5fb-6...  \n",
       "4  VariableDataType.INTEGER  Appliance(uuid=UUID('22a71d1e-8262-4c27-b5fb-6...  "
      ]
     },
     "execution_count": 21,
     "metadata": {},
     "output_type": "execute_result"
    }
   ],
   "source": [
    "variables_df.head()"
   ]
  },
  {
   "cell_type": "markdown",
   "id": "8a99baeb-a034-4763-b980-9e1970989c0b",
   "metadata": {},
   "source": [
    "We will select variables of the Extruder A and all melt pressures for the next steps:"
   ]
  },
  {
   "cell_type": "code",
   "execution_count": 22,
   "id": "e9c5ef33-4a87-4af4-8312-094b9f558b2f",
   "metadata": {},
   "outputs": [
    {
     "data": {
      "text/html": [
       "<div>\n",
       "<style scoped>\n",
       "    .dataframe tbody tr th:only-of-type {\n",
       "        vertical-align: middle;\n",
       "    }\n",
       "\n",
       "    .dataframe tbody tr th {\n",
       "        vertical-align: top;\n",
       "    }\n",
       "\n",
       "    .dataframe thead th {\n",
       "        text-align: right;\n",
       "    }\n",
       "</style>\n",
       "<table border=\"1\" class=\"dataframe\">\n",
       "  <thead>\n",
       "    <tr style=\"text-align: right;\">\n",
       "      <th></th>\n",
       "      <th>uuid</th>\n",
       "      <th>display_name</th>\n",
       "      <th>unit</th>\n",
       "      <th>data_type</th>\n",
       "      <th>appliance</th>\n",
       "    </tr>\n",
       "  </thead>\n",
       "  <tbody>\n",
       "    <tr>\n",
       "      <th>4</th>\n",
       "      <td>378f5c4f-958e-4d72-98dc-88b6ac700b4b</td>\n",
       "      <td>Extruder A Durchsatz</td>\n",
       "      <td>kg/h</td>\n",
       "      <td>VariableDataType.INTEGER</td>\n",
       "      <td>Appliance(uuid=UUID('22a71d1e-8262-4c27-b5fb-6...</td>\n",
       "    </tr>\n",
       "    <tr>\n",
       "      <th>5</th>\n",
       "      <td>3bbcd24b-684c-49fc-b3d4-8e77f9f13a07</td>\n",
       "      <td>Extruder A Folienstärke</td>\n",
       "      <td>µm</td>\n",
       "      <td>VariableDataType.INTEGER</td>\n",
       "      <td>Appliance(uuid=UUID('22a71d1e-8262-4c27-b5fb-6...</td>\n",
       "    </tr>\n",
       "    <tr>\n",
       "      <th>6</th>\n",
       "      <td>dab58100-7bf2-4a37-ba9c-7130897051a8</td>\n",
       "      <td>Extruder A Förderrate</td>\n",
       "      <td>kg/U/min</td>\n",
       "      <td>VariableDataType.INTEGER</td>\n",
       "      <td>Appliance(uuid=UUID('22a71d1e-8262-4c27-b5fb-6...</td>\n",
       "    </tr>\n",
       "    <tr>\n",
       "      <th>7</th>\n",
       "      <td>063e9d4a-1687-4d7e-95e3-fdd56be1c68c</td>\n",
       "      <td>Extruder A Schmelzedruck</td>\n",
       "      <td>bar</td>\n",
       "      <td>VariableDataType.INTEGER</td>\n",
       "      <td>Appliance(uuid=UUID('22a71d1e-8262-4c27-b5fb-6...</td>\n",
       "    </tr>\n",
       "    <tr>\n",
       "      <th>8</th>\n",
       "      <td>5c5eb4a7-a6ed-47ff-a971-722e6334801b</td>\n",
       "      <td>Extruder A Schmelzetemperatur</td>\n",
       "      <td>°C</td>\n",
       "      <td>VariableDataType.INTEGER</td>\n",
       "      <td>Appliance(uuid=UUID('22a71d1e-8262-4c27-b5fb-6...</td>\n",
       "    </tr>\n",
       "    <tr>\n",
       "      <th>9</th>\n",
       "      <td>c1a6fde4-d5e8-4b0f-a064-ae961d2bf962</td>\n",
       "      <td>Extruder A Schneckenumdrehung</td>\n",
       "      <td>1/min</td>\n",
       "      <td>VariableDataType.INTEGER</td>\n",
       "      <td>Appliance(uuid=UUID('22a71d1e-8262-4c27-b5fb-6...</td>\n",
       "    </tr>\n",
       "  </tbody>\n",
       "</table>\n",
       "</div>"
      ],
      "text/plain": [
       "                                   uuid                   display_name  \\\n",
       "4  378f5c4f-958e-4d72-98dc-88b6ac700b4b           Extruder A Durchsatz   \n",
       "5  3bbcd24b-684c-49fc-b3d4-8e77f9f13a07        Extruder A Folienstärke   \n",
       "6  dab58100-7bf2-4a37-ba9c-7130897051a8          Extruder A Förderrate   \n",
       "7  063e9d4a-1687-4d7e-95e3-fdd56be1c68c       Extruder A Schmelzedruck   \n",
       "8  5c5eb4a7-a6ed-47ff-a971-722e6334801b  Extruder A Schmelzetemperatur   \n",
       "9  c1a6fde4-d5e8-4b0f-a064-ae961d2bf962  Extruder A Schneckenumdrehung   \n",
       "\n",
       "       unit                 data_type  \\\n",
       "4      kg/h  VariableDataType.INTEGER   \n",
       "5        µm  VariableDataType.INTEGER   \n",
       "6  kg/U/min  VariableDataType.INTEGER   \n",
       "7       bar  VariableDataType.INTEGER   \n",
       "8        °C  VariableDataType.INTEGER   \n",
       "9     1/min  VariableDataType.INTEGER   \n",
       "\n",
       "                                           appliance  \n",
       "4  Appliance(uuid=UUID('22a71d1e-8262-4c27-b5fb-6...  \n",
       "5  Appliance(uuid=UUID('22a71d1e-8262-4c27-b5fb-6...  \n",
       "6  Appliance(uuid=UUID('22a71d1e-8262-4c27-b5fb-6...  \n",
       "7  Appliance(uuid=UUID('22a71d1e-8262-4c27-b5fb-6...  \n",
       "8  Appliance(uuid=UUID('22a71d1e-8262-4c27-b5fb-6...  \n",
       "9  Appliance(uuid=UUID('22a71d1e-8262-4c27-b5fb-6...  "
      ]
     },
     "execution_count": 22,
     "metadata": {},
     "output_type": "execute_result"
    }
   ],
   "source": [
    "extruder_a_variables_df = (\n",
    "    variables_df.loc[\n",
    "        variables_df[\"display_name\"].str.contains(\"Extruder A\")\n",
    "    ]\n",
    "    .copy()\n",
    ")\n",
    "\n",
    "# a filtered copy of the DataFrame\n",
    "extruder_a_variables_df"
   ]
  },
  {
   "cell_type": "code",
   "execution_count": 23,
   "id": "28651ac9-b781-46d3-a3c2-3beb841d3ddf",
   "metadata": {},
   "outputs": [
    {
     "data": {
      "text/html": [
       "<div>\n",
       "<style scoped>\n",
       "    .dataframe tbody tr th:only-of-type {\n",
       "        vertical-align: middle;\n",
       "    }\n",
       "\n",
       "    .dataframe tbody tr th {\n",
       "        vertical-align: top;\n",
       "    }\n",
       "\n",
       "    .dataframe thead th {\n",
       "        text-align: right;\n",
       "    }\n",
       "</style>\n",
       "<table border=\"1\" class=\"dataframe\">\n",
       "  <thead>\n",
       "    <tr style=\"text-align: right;\">\n",
       "      <th></th>\n",
       "      <th>uuid</th>\n",
       "      <th>display_name</th>\n",
       "      <th>unit</th>\n",
       "      <th>data_type</th>\n",
       "      <th>appliance</th>\n",
       "    </tr>\n",
       "  </thead>\n",
       "  <tbody>\n",
       "    <tr>\n",
       "      <th>4</th>\n",
       "      <td>378f5c4f-958e-4d72-98dc-88b6ac700b4b</td>\n",
       "      <td>Extruder A Durchsatz</td>\n",
       "      <td>kg/h</td>\n",
       "      <td>VariableDataType.INTEGER</td>\n",
       "      <td>Appliance(uuid=UUID('22a71d1e-8262-4c27-b5fb-6...</td>\n",
       "    </tr>\n",
       "    <tr>\n",
       "      <th>5</th>\n",
       "      <td>3bbcd24b-684c-49fc-b3d4-8e77f9f13a07</td>\n",
       "      <td>Extruder A Folienstärke</td>\n",
       "      <td>µm</td>\n",
       "      <td>VariableDataType.INTEGER</td>\n",
       "      <td>Appliance(uuid=UUID('22a71d1e-8262-4c27-b5fb-6...</td>\n",
       "    </tr>\n",
       "    <tr>\n",
       "      <th>6</th>\n",
       "      <td>dab58100-7bf2-4a37-ba9c-7130897051a8</td>\n",
       "      <td>Extruder A Förderrate</td>\n",
       "      <td>kg/U/min</td>\n",
       "      <td>VariableDataType.INTEGER</td>\n",
       "      <td>Appliance(uuid=UUID('22a71d1e-8262-4c27-b5fb-6...</td>\n",
       "    </tr>\n",
       "    <tr>\n",
       "      <th>7</th>\n",
       "      <td>063e9d4a-1687-4d7e-95e3-fdd56be1c68c</td>\n",
       "      <td>Extruder A Schmelzedruck</td>\n",
       "      <td>bar</td>\n",
       "      <td>VariableDataType.INTEGER</td>\n",
       "      <td>Appliance(uuid=UUID('22a71d1e-8262-4c27-b5fb-6...</td>\n",
       "    </tr>\n",
       "    <tr>\n",
       "      <th>8</th>\n",
       "      <td>5c5eb4a7-a6ed-47ff-a971-722e6334801b</td>\n",
       "      <td>Extruder A Schmelzetemperatur</td>\n",
       "      <td>°C</td>\n",
       "      <td>VariableDataType.INTEGER</td>\n",
       "      <td>Appliance(uuid=UUID('22a71d1e-8262-4c27-b5fb-6...</td>\n",
       "    </tr>\n",
       "    <tr>\n",
       "      <th>9</th>\n",
       "      <td>c1a6fde4-d5e8-4b0f-a064-ae961d2bf962</td>\n",
       "      <td>Extruder A Schneckenumdrehung</td>\n",
       "      <td>1/min</td>\n",
       "      <td>VariableDataType.INTEGER</td>\n",
       "      <td>Appliance(uuid=UUID('22a71d1e-8262-4c27-b5fb-6...</td>\n",
       "    </tr>\n",
       "    <tr>\n",
       "      <th>10</th>\n",
       "      <td>c9709564-395c-403e-be34-96bb2c41551c</td>\n",
       "      <td>Extruder B Durchsatz</td>\n",
       "      <td>kg/h</td>\n",
       "      <td>VariableDataType.INTEGER</td>\n",
       "      <td>Appliance(uuid=UUID('22a71d1e-8262-4c27-b5fb-6...</td>\n",
       "    </tr>\n",
       "    <tr>\n",
       "      <th>11</th>\n",
       "      <td>8057cb67-e711-4b43-93cc-0342ec7dae44</td>\n",
       "      <td>Extruder B Folienstärke</td>\n",
       "      <td>µm</td>\n",
       "      <td>VariableDataType.INTEGER</td>\n",
       "      <td>Appliance(uuid=UUID('22a71d1e-8262-4c27-b5fb-6...</td>\n",
       "    </tr>\n",
       "    <tr>\n",
       "      <th>12</th>\n",
       "      <td>1a07c75f-6c00-4d21-8512-8578008928fa</td>\n",
       "      <td>Extruder B Förderrate</td>\n",
       "      <td>kg/U/min</td>\n",
       "      <td>VariableDataType.INTEGER</td>\n",
       "      <td>Appliance(uuid=UUID('22a71d1e-8262-4c27-b5fb-6...</td>\n",
       "    </tr>\n",
       "    <tr>\n",
       "      <th>13</th>\n",
       "      <td>aa62c591-bd89-4423-8ea4-d973290f0dad</td>\n",
       "      <td>Extruder B Schmelzedruck</td>\n",
       "      <td>bar</td>\n",
       "      <td>VariableDataType.INTEGER</td>\n",
       "      <td>Appliance(uuid=UUID('22a71d1e-8262-4c27-b5fb-6...</td>\n",
       "    </tr>\n",
       "    <tr>\n",
       "      <th>14</th>\n",
       "      <td>f84a0232-bd3b-4978-8d21-a10922846926</td>\n",
       "      <td>Extruder B Schmelzetemperatur</td>\n",
       "      <td>°C</td>\n",
       "      <td>VariableDataType.INTEGER</td>\n",
       "      <td>Appliance(uuid=UUID('22a71d1e-8262-4c27-b5fb-6...</td>\n",
       "    </tr>\n",
       "    <tr>\n",
       "      <th>15</th>\n",
       "      <td>8755d5bb-e3ea-4ab0-994b-2b7cca767b76</td>\n",
       "      <td>Extruder B Schneckenumdrehung</td>\n",
       "      <td>1/min</td>\n",
       "      <td>VariableDataType.INTEGER</td>\n",
       "      <td>Appliance(uuid=UUID('22a71d1e-8262-4c27-b5fb-6...</td>\n",
       "    </tr>\n",
       "  </tbody>\n",
       "</table>\n",
       "</div>"
      ],
      "text/plain": [
       "                                    uuid                   display_name  \\\n",
       "4   378f5c4f-958e-4d72-98dc-88b6ac700b4b           Extruder A Durchsatz   \n",
       "5   3bbcd24b-684c-49fc-b3d4-8e77f9f13a07        Extruder A Folienstärke   \n",
       "6   dab58100-7bf2-4a37-ba9c-7130897051a8          Extruder A Förderrate   \n",
       "7   063e9d4a-1687-4d7e-95e3-fdd56be1c68c       Extruder A Schmelzedruck   \n",
       "8   5c5eb4a7-a6ed-47ff-a971-722e6334801b  Extruder A Schmelzetemperatur   \n",
       "9   c1a6fde4-d5e8-4b0f-a064-ae961d2bf962  Extruder A Schneckenumdrehung   \n",
       "10  c9709564-395c-403e-be34-96bb2c41551c           Extruder B Durchsatz   \n",
       "11  8057cb67-e711-4b43-93cc-0342ec7dae44        Extruder B Folienstärke   \n",
       "12  1a07c75f-6c00-4d21-8512-8578008928fa          Extruder B Förderrate   \n",
       "13  aa62c591-bd89-4423-8ea4-d973290f0dad       Extruder B Schmelzedruck   \n",
       "14  f84a0232-bd3b-4978-8d21-a10922846926  Extruder B Schmelzetemperatur   \n",
       "15  8755d5bb-e3ea-4ab0-994b-2b7cca767b76  Extruder B Schneckenumdrehung   \n",
       "\n",
       "        unit                 data_type  \\\n",
       "4       kg/h  VariableDataType.INTEGER   \n",
       "5         µm  VariableDataType.INTEGER   \n",
       "6   kg/U/min  VariableDataType.INTEGER   \n",
       "7        bar  VariableDataType.INTEGER   \n",
       "8         °C  VariableDataType.INTEGER   \n",
       "9      1/min  VariableDataType.INTEGER   \n",
       "10      kg/h  VariableDataType.INTEGER   \n",
       "11        µm  VariableDataType.INTEGER   \n",
       "12  kg/U/min  VariableDataType.INTEGER   \n",
       "13       bar  VariableDataType.INTEGER   \n",
       "14        °C  VariableDataType.INTEGER   \n",
       "15     1/min  VariableDataType.INTEGER   \n",
       "\n",
       "                                            appliance  \n",
       "4   Appliance(uuid=UUID('22a71d1e-8262-4c27-b5fb-6...  \n",
       "5   Appliance(uuid=UUID('22a71d1e-8262-4c27-b5fb-6...  \n",
       "6   Appliance(uuid=UUID('22a71d1e-8262-4c27-b5fb-6...  \n",
       "7   Appliance(uuid=UUID('22a71d1e-8262-4c27-b5fb-6...  \n",
       "8   Appliance(uuid=UUID('22a71d1e-8262-4c27-b5fb-6...  \n",
       "9   Appliance(uuid=UUID('22a71d1e-8262-4c27-b5fb-6...  \n",
       "10  Appliance(uuid=UUID('22a71d1e-8262-4c27-b5fb-6...  \n",
       "11  Appliance(uuid=UUID('22a71d1e-8262-4c27-b5fb-6...  \n",
       "12  Appliance(uuid=UUID('22a71d1e-8262-4c27-b5fb-6...  \n",
       "13  Appliance(uuid=UUID('22a71d1e-8262-4c27-b5fb-6...  \n",
       "14  Appliance(uuid=UUID('22a71d1e-8262-4c27-b5fb-6...  \n",
       "15  Appliance(uuid=UUID('22a71d1e-8262-4c27-b5fb-6...  "
      ]
     },
     "execution_count": 23,
     "metadata": {},
     "output_type": "execute_result"
    }
   ],
   "source": [
    "melt_pressures_df = (\n",
    "    variables_df.loc[\n",
    "        variables_df[\"display_name\"].str.contains(r\"Extruder [A-B]\")\n",
    "    ].copy()\n",
    ")\n",
    "\n",
    "melt_pressures_df"
   ]
  },
  {
   "cell_type": "markdown",
   "id": "8bf00c18-7670-4ba5-9c0c-ca88273708dd",
   "metadata": {},
   "source": [
    "The resulting DataFrames `extruder_a_variables_df` and `melt_pressures_df` are a copy of the filtered `variables_df` DataFrame. In this case, creating a copy is not necessary because we are not further changing the data, but it's good practice when you work with DataFrames.\n",
    "\n",
    "If you don't use `.copy()`, the assigned variable will only hold a view of the original DataFrame and changing it would also change the data in the original DataFrame. This can cause some unexpected behaviour and difficult to trace errors, so usually pandas will throw a `SettingWithCopyWarning` error if you do so.\n",
    "\n",
    "<div class=\"alert alert-block alert-danger\">\n",
    "<b>SettingWithCopyWarning:</b> A value is trying to be set on a copy of a slice from a DataFrame.\n",
    "</div>\n",
    "\n",
    "Check out the [pandas documentation](https://pandas.pydata.org/docs/reference/api/pandas.DataFrame.copy.html) for more details."
   ]
  },
  {
   "cell_type": "markdown",
   "id": "a3033a2d-b022-4559-8f98-cae16bf42043",
   "metadata": {},
   "source": [
    "## Time series data"
   ]
  },
  {
   "cell_type": "markdown",
   "id": "03ebad8e-8e54-448f-9d6f-053487ca7d76",
   "metadata": {},
   "source": [
    "Now that we have selected the variables we are interested in, we can use them to get time series data.\n",
    "\n",
    "Pandas built-in filtering allows to quickly select the variables we want, but `get_timeseries` expects a list of `enlyze.models.Variable`'s."
   ]
  },
  {
   "cell_type": "code",
   "execution_count": 24,
   "id": "c64809fc-d6dc-4309-9f7a-bd256dc82f67",
   "metadata": {},
   "outputs": [],
   "source": [
    "extruder_a_variables = []\n",
    "\n",
    "# iterate over all variables\n",
    "for variable in variables:\n",
    "    if variable.uuid in extruder_a_variables_df[\"uuid\"].tolist():\n",
    "        # if a uuid is in the uuid-column of the DataFrame\n",
    "        # add the variable to the list\n",
    "        extruder_a_variables.append(variable)\n",
    "        "
   ]
  },
  {
   "cell_type": "code",
   "execution_count": 25,
   "id": "593d289f-6958-4927-85f1-adecd309fb54",
   "metadata": {},
   "outputs": [],
   "source": [
    "melt_pressures = []\n",
    "\n",
    "for variable in variables:\n",
    "    if variable.uuid in melt_pressures_df[\"uuid\"].tolist():\n",
    "        melt_pressures.append(variable)\n",
    "        "
   ]
  },
  {
   "cell_type": "markdown",
   "id": "8ec97ec7-8e4b-4553-ac20-1e668108eabd",
   "metadata": {},
   "source": [
    "### For small periods and quick explorations - get_timeseries()"
   ]
  },
  {
   "cell_type": "markdown",
   "id": "66e8c2ce-ceff-43d0-9d98-ceb4b23f2f9e",
   "metadata": {},
   "source": [
    "The `get_timeseries` expects a start and end time, ideally with a timezone specified, and a list of variables.\n",
    "\n",
    "It then returns a `TimeseriesData` object, from which the data can be retrieved as a pandas DataFrame or dictionary (records). By default, the column names will be set to the `variable_uuids` but if `use_display_names` is set to True, it will return the DataFrame with human-readable names.\n",
    "\n",
    "<div class=\"alert alert-block alert-info\">\n",
    "<b>Note:</b> Display names are not guaranteed to be unique for an appliance.\n",
    "</div>\n",
    "\n",
    "If two or more variables with the same display name exist, there will be multiple columns with the same name. This can lead to unexpected behavior in later steps. However, display names can be adjusted in the app at any time, thus solving this problem.\n"
   ]
  },
  {
   "cell_type": "code",
   "execution_count": 26,
   "id": "bd3d8705-511b-490d-bfcd-7af70d7bb174",
   "metadata": {},
   "outputs": [],
   "source": [
    "start = datetime.fromisoformat(\"2022-05-17 05:00:00+01:00\")\n",
    "\n",
    "end = datetime.fromisoformat(\"2022-05-28 18:00:00+01:00\")\n",
    "\n",
    "ts_data = enlyze.get_timeseries(start=start, end=end, variables=melt_pressures)"
   ]
  },
  {
   "cell_type": "code",
   "execution_count": 27,
   "id": "971125fe-5763-4525-bc92-7905abf7206a",
   "metadata": {},
   "outputs": [],
   "source": [
    "data = ts_data.to_dataframe(use_display_names=True)"
   ]
  },
  {
   "cell_type": "code",
   "execution_count": 28,
   "id": "cbee3902-5048-4bf6-9691-59e57a80910e",
   "metadata": {},
   "outputs": [
    {
     "data": {
      "text/html": [
       "<div>\n",
       "<style scoped>\n",
       "    .dataframe tbody tr th:only-of-type {\n",
       "        vertical-align: middle;\n",
       "    }\n",
       "\n",
       "    .dataframe tbody tr th {\n",
       "        vertical-align: top;\n",
       "    }\n",
       "\n",
       "    .dataframe thead th {\n",
       "        text-align: right;\n",
       "    }\n",
       "</style>\n",
       "<table border=\"1\" class=\"dataframe\">\n",
       "  <thead>\n",
       "    <tr style=\"text-align: right;\">\n",
       "      <th></th>\n",
       "      <th>Extruder A Schmelzedruck</th>\n",
       "      <th>Extruder B Förderrate</th>\n",
       "      <th>Extruder A Durchsatz</th>\n",
       "      <th>Extruder A Folienstärke</th>\n",
       "      <th>Extruder A Schmelzetemperatur</th>\n",
       "      <th>Extruder B Folienstärke</th>\n",
       "      <th>Extruder B Schneckenumdrehung</th>\n",
       "      <th>Extruder B Schmelzedruck</th>\n",
       "      <th>Extruder A Schneckenumdrehung</th>\n",
       "      <th>Extruder B Durchsatz</th>\n",
       "      <th>Extruder A Förderrate</th>\n",
       "      <th>Extruder B Schmelzetemperatur</th>\n",
       "    </tr>\n",
       "    <tr>\n",
       "      <th>time</th>\n",
       "      <th></th>\n",
       "      <th></th>\n",
       "      <th></th>\n",
       "      <th></th>\n",
       "      <th></th>\n",
       "      <th></th>\n",
       "      <th></th>\n",
       "      <th></th>\n",
       "      <th></th>\n",
       "      <th></th>\n",
       "      <th></th>\n",
       "      <th></th>\n",
       "    </tr>\n",
       "  </thead>\n",
       "  <tbody>\n",
       "    <tr>\n",
       "      <th>2022-05-17 04:00:00+00:00</th>\n",
       "      <td>387.0</td>\n",
       "      <td>127.0</td>\n",
       "      <td>50.0</td>\n",
       "      <td>2.0</td>\n",
       "      <td>211.0</td>\n",
       "      <td>3.0</td>\n",
       "      <td>71.0</td>\n",
       "      <td>502.0</td>\n",
       "      <td>67.0</td>\n",
       "      <td>90.0</td>\n",
       "      <td>74.0</td>\n",
       "      <td>210.0</td>\n",
       "    </tr>\n",
       "    <tr>\n",
       "      <th>2022-05-17 04:00:10+00:00</th>\n",
       "      <td>388.0</td>\n",
       "      <td>127.0</td>\n",
       "      <td>50.0</td>\n",
       "      <td>2.0</td>\n",
       "      <td>211.0</td>\n",
       "      <td>3.0</td>\n",
       "      <td>71.0</td>\n",
       "      <td>502.0</td>\n",
       "      <td>67.0</td>\n",
       "      <td>90.0</td>\n",
       "      <td>74.0</td>\n",
       "      <td>210.0</td>\n",
       "    </tr>\n",
       "    <tr>\n",
       "      <th>2022-05-17 04:00:20+00:00</th>\n",
       "      <td>388.0</td>\n",
       "      <td>127.0</td>\n",
       "      <td>50.0</td>\n",
       "      <td>2.0</td>\n",
       "      <td>211.0</td>\n",
       "      <td>3.0</td>\n",
       "      <td>71.0</td>\n",
       "      <td>502.0</td>\n",
       "      <td>67.0</td>\n",
       "      <td>90.0</td>\n",
       "      <td>74.0</td>\n",
       "      <td>210.0</td>\n",
       "    </tr>\n",
       "    <tr>\n",
       "      <th>2022-05-17 04:00:30+00:00</th>\n",
       "      <td>388.0</td>\n",
       "      <td>127.0</td>\n",
       "      <td>50.0</td>\n",
       "      <td>2.0</td>\n",
       "      <td>211.0</td>\n",
       "      <td>3.0</td>\n",
       "      <td>71.0</td>\n",
       "      <td>502.0</td>\n",
       "      <td>67.0</td>\n",
       "      <td>90.0</td>\n",
       "      <td>74.0</td>\n",
       "      <td>210.0</td>\n",
       "    </tr>\n",
       "    <tr>\n",
       "      <th>2022-05-17 04:00:40+00:00</th>\n",
       "      <td>388.0</td>\n",
       "      <td>127.0</td>\n",
       "      <td>50.0</td>\n",
       "      <td>2.0</td>\n",
       "      <td>211.0</td>\n",
       "      <td>3.0</td>\n",
       "      <td>71.0</td>\n",
       "      <td>500.0</td>\n",
       "      <td>67.0</td>\n",
       "      <td>90.0</td>\n",
       "      <td>74.0</td>\n",
       "      <td>210.0</td>\n",
       "    </tr>\n",
       "  </tbody>\n",
       "</table>\n",
       "</div>"
      ],
      "text/plain": [
       "                           Extruder A Schmelzedruck  Extruder B Förderrate  \\\n",
       "time                                                                         \n",
       "2022-05-17 04:00:00+00:00                     387.0                  127.0   \n",
       "2022-05-17 04:00:10+00:00                     388.0                  127.0   \n",
       "2022-05-17 04:00:20+00:00                     388.0                  127.0   \n",
       "2022-05-17 04:00:30+00:00                     388.0                  127.0   \n",
       "2022-05-17 04:00:40+00:00                     388.0                  127.0   \n",
       "\n",
       "                           Extruder A Durchsatz  Extruder A Folienstärke  \\\n",
       "time                                                                       \n",
       "2022-05-17 04:00:00+00:00                  50.0                      2.0   \n",
       "2022-05-17 04:00:10+00:00                  50.0                      2.0   \n",
       "2022-05-17 04:00:20+00:00                  50.0                      2.0   \n",
       "2022-05-17 04:00:30+00:00                  50.0                      2.0   \n",
       "2022-05-17 04:00:40+00:00                  50.0                      2.0   \n",
       "\n",
       "                           Extruder A Schmelzetemperatur  \\\n",
       "time                                                       \n",
       "2022-05-17 04:00:00+00:00                          211.0   \n",
       "2022-05-17 04:00:10+00:00                          211.0   \n",
       "2022-05-17 04:00:20+00:00                          211.0   \n",
       "2022-05-17 04:00:30+00:00                          211.0   \n",
       "2022-05-17 04:00:40+00:00                          211.0   \n",
       "\n",
       "                           Extruder B Folienstärke  \\\n",
       "time                                                 \n",
       "2022-05-17 04:00:00+00:00                      3.0   \n",
       "2022-05-17 04:00:10+00:00                      3.0   \n",
       "2022-05-17 04:00:20+00:00                      3.0   \n",
       "2022-05-17 04:00:30+00:00                      3.0   \n",
       "2022-05-17 04:00:40+00:00                      3.0   \n",
       "\n",
       "                           Extruder B Schneckenumdrehung  \\\n",
       "time                                                       \n",
       "2022-05-17 04:00:00+00:00                           71.0   \n",
       "2022-05-17 04:00:10+00:00                           71.0   \n",
       "2022-05-17 04:00:20+00:00                           71.0   \n",
       "2022-05-17 04:00:30+00:00                           71.0   \n",
       "2022-05-17 04:00:40+00:00                           71.0   \n",
       "\n",
       "                           Extruder B Schmelzedruck  \\\n",
       "time                                                  \n",
       "2022-05-17 04:00:00+00:00                     502.0   \n",
       "2022-05-17 04:00:10+00:00                     502.0   \n",
       "2022-05-17 04:00:20+00:00                     502.0   \n",
       "2022-05-17 04:00:30+00:00                     502.0   \n",
       "2022-05-17 04:00:40+00:00                     500.0   \n",
       "\n",
       "                           Extruder A Schneckenumdrehung  \\\n",
       "time                                                       \n",
       "2022-05-17 04:00:00+00:00                           67.0   \n",
       "2022-05-17 04:00:10+00:00                           67.0   \n",
       "2022-05-17 04:00:20+00:00                           67.0   \n",
       "2022-05-17 04:00:30+00:00                           67.0   \n",
       "2022-05-17 04:00:40+00:00                           67.0   \n",
       "\n",
       "                           Extruder B Durchsatz  Extruder A Förderrate  \\\n",
       "time                                                                     \n",
       "2022-05-17 04:00:00+00:00                  90.0                   74.0   \n",
       "2022-05-17 04:00:10+00:00                  90.0                   74.0   \n",
       "2022-05-17 04:00:20+00:00                  90.0                   74.0   \n",
       "2022-05-17 04:00:30+00:00                  90.0                   74.0   \n",
       "2022-05-17 04:00:40+00:00                  90.0                   74.0   \n",
       "\n",
       "                           Extruder B Schmelzetemperatur  \n",
       "time                                                      \n",
       "2022-05-17 04:00:00+00:00                          210.0  \n",
       "2022-05-17 04:00:10+00:00                          210.0  \n",
       "2022-05-17 04:00:20+00:00                          210.0  \n",
       "2022-05-17 04:00:30+00:00                          210.0  \n",
       "2022-05-17 04:00:40+00:00                          210.0  "
      ]
     },
     "execution_count": 28,
     "metadata": {},
     "output_type": "execute_result"
    }
   ],
   "source": [
    "data.head()"
   ]
  },
  {
   "cell_type": "markdown",
   "id": "dfd17fd7-6f21-47dd-9753-db8702b99674",
   "metadata": {},
   "source": [
    "Note that the index of the DataFrame is the time-column and the timezone is always UTC, regardless of the timezone specified in the request.\n",
    "\n",
    "Using the `reset_index()` method will use the index as a column and set a default index instead:"
   ]
  },
  {
   "cell_type": "code",
   "execution_count": 29,
   "id": "f17ebc8c-edd0-4479-a037-5e48c655d0fd",
   "metadata": {},
   "outputs": [
    {
     "data": {
      "text/html": [
       "<div>\n",
       "<style scoped>\n",
       "    .dataframe tbody tr th:only-of-type {\n",
       "        vertical-align: middle;\n",
       "    }\n",
       "\n",
       "    .dataframe tbody tr th {\n",
       "        vertical-align: top;\n",
       "    }\n",
       "\n",
       "    .dataframe thead th {\n",
       "        text-align: right;\n",
       "    }\n",
       "</style>\n",
       "<table border=\"1\" class=\"dataframe\">\n",
       "  <thead>\n",
       "    <tr style=\"text-align: right;\">\n",
       "      <th></th>\n",
       "      <th>time</th>\n",
       "      <th>Extruder A Schmelzedruck</th>\n",
       "      <th>Extruder B Förderrate</th>\n",
       "      <th>Extruder A Durchsatz</th>\n",
       "      <th>Extruder A Folienstärke</th>\n",
       "      <th>Extruder A Schmelzetemperatur</th>\n",
       "      <th>Extruder B Folienstärke</th>\n",
       "      <th>Extruder B Schneckenumdrehung</th>\n",
       "      <th>Extruder B Schmelzedruck</th>\n",
       "      <th>Extruder A Schneckenumdrehung</th>\n",
       "      <th>Extruder B Durchsatz</th>\n",
       "      <th>Extruder A Förderrate</th>\n",
       "      <th>Extruder B Schmelzetemperatur</th>\n",
       "    </tr>\n",
       "  </thead>\n",
       "  <tbody>\n",
       "    <tr>\n",
       "      <th>0</th>\n",
       "      <td>2022-05-17 04:00:00+00:00</td>\n",
       "      <td>387.0</td>\n",
       "      <td>127.0</td>\n",
       "      <td>50.0</td>\n",
       "      <td>2.0</td>\n",
       "      <td>211.0</td>\n",
       "      <td>3.0</td>\n",
       "      <td>71.0</td>\n",
       "      <td>502.0</td>\n",
       "      <td>67.0</td>\n",
       "      <td>90.0</td>\n",
       "      <td>74.0</td>\n",
       "      <td>210.0</td>\n",
       "    </tr>\n",
       "    <tr>\n",
       "      <th>1</th>\n",
       "      <td>2022-05-17 04:00:10+00:00</td>\n",
       "      <td>388.0</td>\n",
       "      <td>127.0</td>\n",
       "      <td>50.0</td>\n",
       "      <td>2.0</td>\n",
       "      <td>211.0</td>\n",
       "      <td>3.0</td>\n",
       "      <td>71.0</td>\n",
       "      <td>502.0</td>\n",
       "      <td>67.0</td>\n",
       "      <td>90.0</td>\n",
       "      <td>74.0</td>\n",
       "      <td>210.0</td>\n",
       "    </tr>\n",
       "    <tr>\n",
       "      <th>2</th>\n",
       "      <td>2022-05-17 04:00:20+00:00</td>\n",
       "      <td>388.0</td>\n",
       "      <td>127.0</td>\n",
       "      <td>50.0</td>\n",
       "      <td>2.0</td>\n",
       "      <td>211.0</td>\n",
       "      <td>3.0</td>\n",
       "      <td>71.0</td>\n",
       "      <td>502.0</td>\n",
       "      <td>67.0</td>\n",
       "      <td>90.0</td>\n",
       "      <td>74.0</td>\n",
       "      <td>210.0</td>\n",
       "    </tr>\n",
       "    <tr>\n",
       "      <th>3</th>\n",
       "      <td>2022-05-17 04:00:30+00:00</td>\n",
       "      <td>388.0</td>\n",
       "      <td>127.0</td>\n",
       "      <td>50.0</td>\n",
       "      <td>2.0</td>\n",
       "      <td>211.0</td>\n",
       "      <td>3.0</td>\n",
       "      <td>71.0</td>\n",
       "      <td>502.0</td>\n",
       "      <td>67.0</td>\n",
       "      <td>90.0</td>\n",
       "      <td>74.0</td>\n",
       "      <td>210.0</td>\n",
       "    </tr>\n",
       "    <tr>\n",
       "      <th>4</th>\n",
       "      <td>2022-05-17 04:00:40+00:00</td>\n",
       "      <td>388.0</td>\n",
       "      <td>127.0</td>\n",
       "      <td>50.0</td>\n",
       "      <td>2.0</td>\n",
       "      <td>211.0</td>\n",
       "      <td>3.0</td>\n",
       "      <td>71.0</td>\n",
       "      <td>500.0</td>\n",
       "      <td>67.0</td>\n",
       "      <td>90.0</td>\n",
       "      <td>74.0</td>\n",
       "      <td>210.0</td>\n",
       "    </tr>\n",
       "  </tbody>\n",
       "</table>\n",
       "</div>"
      ],
      "text/plain": [
       "                       time  Extruder A Schmelzedruck  Extruder B Förderrate  \\\n",
       "0 2022-05-17 04:00:00+00:00                     387.0                  127.0   \n",
       "1 2022-05-17 04:00:10+00:00                     388.0                  127.0   \n",
       "2 2022-05-17 04:00:20+00:00                     388.0                  127.0   \n",
       "3 2022-05-17 04:00:30+00:00                     388.0                  127.0   \n",
       "4 2022-05-17 04:00:40+00:00                     388.0                  127.0   \n",
       "\n",
       "   Extruder A Durchsatz  Extruder A Folienstärke  \\\n",
       "0                  50.0                      2.0   \n",
       "1                  50.0                      2.0   \n",
       "2                  50.0                      2.0   \n",
       "3                  50.0                      2.0   \n",
       "4                  50.0                      2.0   \n",
       "\n",
       "   Extruder A Schmelzetemperatur  Extruder B Folienstärke  \\\n",
       "0                          211.0                      3.0   \n",
       "1                          211.0                      3.0   \n",
       "2                          211.0                      3.0   \n",
       "3                          211.0                      3.0   \n",
       "4                          211.0                      3.0   \n",
       "\n",
       "   Extruder B Schneckenumdrehung  Extruder B Schmelzedruck  \\\n",
       "0                           71.0                     502.0   \n",
       "1                           71.0                     502.0   \n",
       "2                           71.0                     502.0   \n",
       "3                           71.0                     502.0   \n",
       "4                           71.0                     500.0   \n",
       "\n",
       "   Extruder A Schneckenumdrehung  Extruder B Durchsatz  Extruder A Förderrate  \\\n",
       "0                           67.0                  90.0                   74.0   \n",
       "1                           67.0                  90.0                   74.0   \n",
       "2                           67.0                  90.0                   74.0   \n",
       "3                           67.0                  90.0                   74.0   \n",
       "4                           67.0                  90.0                   74.0   \n",
       "\n",
       "   Extruder B Schmelzetemperatur  \n",
       "0                          210.0  \n",
       "1                          210.0  \n",
       "2                          210.0  \n",
       "3                          210.0  \n",
       "4                          210.0  "
      ]
     },
     "execution_count": 29,
     "metadata": {},
     "output_type": "execute_result"
    }
   ],
   "source": [
    "data = data.reset_index()\n",
    "data.head()"
   ]
  },
  {
   "cell_type": "markdown",
   "id": "e2ac6c18-da31-4ebc-869c-b4c2b0911d3c",
   "metadata": {},
   "source": [
    "To convert the timezone back to the local timezone you can use pandas Datetime functionality:"
   ]
  },
  {
   "cell_type": "code",
   "execution_count": 30,
   "id": "879a3abc-8732-4395-8957-52d5e5c2b154",
   "metadata": {},
   "outputs": [
    {
     "data": {
      "text/html": [
       "<div>\n",
       "<style scoped>\n",
       "    .dataframe tbody tr th:only-of-type {\n",
       "        vertical-align: middle;\n",
       "    }\n",
       "\n",
       "    .dataframe tbody tr th {\n",
       "        vertical-align: top;\n",
       "    }\n",
       "\n",
       "    .dataframe thead th {\n",
       "        text-align: right;\n",
       "    }\n",
       "</style>\n",
       "<table border=\"1\" class=\"dataframe\">\n",
       "  <thead>\n",
       "    <tr style=\"text-align: right;\">\n",
       "      <th></th>\n",
       "      <th>time</th>\n",
       "      <th>time_local</th>\n",
       "      <th>Extruder A Schmelzedruck</th>\n",
       "    </tr>\n",
       "  </thead>\n",
       "  <tbody>\n",
       "    <tr>\n",
       "      <th>0</th>\n",
       "      <td>2022-05-17 04:00:00+00:00</td>\n",
       "      <td>2022-05-17 06:00:00+02:00</td>\n",
       "      <td>387.0</td>\n",
       "    </tr>\n",
       "    <tr>\n",
       "      <th>1</th>\n",
       "      <td>2022-05-17 04:00:10+00:00</td>\n",
       "      <td>2022-05-17 06:00:10+02:00</td>\n",
       "      <td>388.0</td>\n",
       "    </tr>\n",
       "    <tr>\n",
       "      <th>2</th>\n",
       "      <td>2022-05-17 04:00:20+00:00</td>\n",
       "      <td>2022-05-17 06:00:20+02:00</td>\n",
       "      <td>388.0</td>\n",
       "    </tr>\n",
       "    <tr>\n",
       "      <th>3</th>\n",
       "      <td>2022-05-17 04:00:30+00:00</td>\n",
       "      <td>2022-05-17 06:00:30+02:00</td>\n",
       "      <td>388.0</td>\n",
       "    </tr>\n",
       "    <tr>\n",
       "      <th>4</th>\n",
       "      <td>2022-05-17 04:00:40+00:00</td>\n",
       "      <td>2022-05-17 06:00:40+02:00</td>\n",
       "      <td>388.0</td>\n",
       "    </tr>\n",
       "    <tr>\n",
       "      <th>...</th>\n",
       "      <td>...</td>\n",
       "      <td>...</td>\n",
       "      <td>...</td>\n",
       "    </tr>\n",
       "    <tr>\n",
       "      <th>99699</th>\n",
       "      <td>2022-05-28 16:59:10+00:00</td>\n",
       "      <td>2022-05-28 18:59:10+02:00</td>\n",
       "      <td>338.0</td>\n",
       "    </tr>\n",
       "    <tr>\n",
       "      <th>99700</th>\n",
       "      <td>2022-05-28 16:59:20+00:00</td>\n",
       "      <td>2022-05-28 18:59:20+02:00</td>\n",
       "      <td>338.0</td>\n",
       "    </tr>\n",
       "    <tr>\n",
       "      <th>99701</th>\n",
       "      <td>2022-05-28 16:59:30+00:00</td>\n",
       "      <td>2022-05-28 18:59:30+02:00</td>\n",
       "      <td>338.0</td>\n",
       "    </tr>\n",
       "    <tr>\n",
       "      <th>99702</th>\n",
       "      <td>2022-05-28 16:59:40+00:00</td>\n",
       "      <td>2022-05-28 18:59:40+02:00</td>\n",
       "      <td>338.0</td>\n",
       "    </tr>\n",
       "    <tr>\n",
       "      <th>99703</th>\n",
       "      <td>2022-05-28 16:59:50+00:00</td>\n",
       "      <td>2022-05-28 18:59:50+02:00</td>\n",
       "      <td>338.0</td>\n",
       "    </tr>\n",
       "  </tbody>\n",
       "</table>\n",
       "<p>99704 rows × 3 columns</p>\n",
       "</div>"
      ],
      "text/plain": [
       "                           time                time_local  \\\n",
       "0     2022-05-17 04:00:00+00:00 2022-05-17 06:00:00+02:00   \n",
       "1     2022-05-17 04:00:10+00:00 2022-05-17 06:00:10+02:00   \n",
       "2     2022-05-17 04:00:20+00:00 2022-05-17 06:00:20+02:00   \n",
       "3     2022-05-17 04:00:30+00:00 2022-05-17 06:00:30+02:00   \n",
       "4     2022-05-17 04:00:40+00:00 2022-05-17 06:00:40+02:00   \n",
       "...                         ...                       ...   \n",
       "99699 2022-05-28 16:59:10+00:00 2022-05-28 18:59:10+02:00   \n",
       "99700 2022-05-28 16:59:20+00:00 2022-05-28 18:59:20+02:00   \n",
       "99701 2022-05-28 16:59:30+00:00 2022-05-28 18:59:30+02:00   \n",
       "99702 2022-05-28 16:59:40+00:00 2022-05-28 18:59:40+02:00   \n",
       "99703 2022-05-28 16:59:50+00:00 2022-05-28 18:59:50+02:00   \n",
       "\n",
       "       Extruder A Schmelzedruck  \n",
       "0                         387.0  \n",
       "1                         388.0  \n",
       "2                         388.0  \n",
       "3                         388.0  \n",
       "4                         388.0  \n",
       "...                         ...  \n",
       "99699                     338.0  \n",
       "99700                     338.0  \n",
       "99701                     338.0  \n",
       "99702                     338.0  \n",
       "99703                     338.0  \n",
       "\n",
       "[99704 rows x 3 columns]"
      ]
     },
     "execution_count": 30,
     "metadata": {},
     "output_type": "execute_result"
    }
   ],
   "source": [
    "data[\"time_local\"] = data[\"time\"].dt.tz_convert(\"Europe/Berlin\")\n",
    "data[[\"time\",\"time_local\", \"Extruder A Schmelzedruck\"]]"
   ]
  },
  {
   "cell_type": "markdown",
   "id": "0239a449-efc0-4cae-a233-5987c6a45968",
   "metadata": {},
   "source": [
    "### For large periods and more fine-grained control - get_timeseries_with_resampling()"
   ]
  },
  {
   "cell_type": "markdown",
   "id": "88bd9db6-6561-480f-bc96-ccddbe68cbcd",
   "metadata": {},
   "source": [
    "The `get_timeseries` method returns the time series in the currently highest resolution (10 seconds). For a long period and many variables, this quickly results in a large amount of data. Due to the size of the data, there might be a noticeable delay in receiving the results, and in some cases, it may even cause a request timeout.\n",
    "\n",
    "The `get_timeseries_with_resampling` method allows for a higher control over the way in which the data is retrieved. By specifying a resampling method and a resampling interval, the amount of data can be adjusted for the use case. Resampling happens on the server-side and thus reduces the payload.\n",
    "\n",
    "\n",
    "A separate resampling method must be specified for each variable. This is necessary because not every resampling method is available for every data type. For example, categorical data types such as strings can only be aggregated with 'first', 'last' or 'count'. You can find all available resampling methods [in our documentation](https://enlyze-python.readthedocs.io/en/latest/models.html#enlyze.models.ResamplingMethod)."
   ]
  },
  {
   "cell_type": "code",
   "execution_count": 31,
   "id": "9c004353-b0e8-41e2-9fe5-a30ee22a3010",
   "metadata": {},
   "outputs": [],
   "source": [
    "from enlyze.models import ResamplingMethod"
   ]
  },
  {
   "cell_type": "code",
   "execution_count": 32,
   "id": "df79349c-f999-4754-8174-3433f3599c9e",
   "metadata": {},
   "outputs": [],
   "source": [
    "# pandas has some very handy Timestamp and Timedelta functionalities that are worth checking out\n",
    "end = pd.Timestamp.utcnow()\n",
    "start = end - pd.Timedelta(weeks=2)\n"
   ]
  },
  {
   "cell_type": "markdown",
   "id": "81aa8b85-a83c-4518-b94e-a83022211436",
   "metadata": {},
   "source": [
    "<div class=\"alert alert-block alert-info\">\n",
    "<b>Tip:</b> You can access the Docstring of a function in Jupyter Notebooks, if you call it with a question mark right after the name, for example: `enlyze.get_timeseries_with_resampling?`\n",
    "</div>"
   ]
  },
  {
   "cell_type": "markdown",
   "id": "a92d1975-8cc2-4ade-8ab7-330c36598fc5",
   "metadata": {},
   "source": [
    "For our example, we will use the same resampling method for all variables and a `resampling_interval` of 10 minutes"
   ]
  },
  {
   "cell_type": "code",
   "execution_count": 33,
   "id": "783d0c11-b5e2-4e7b-8cbb-fcb9f777012f",
   "metadata": {},
   "outputs": [],
   "source": [
    "ts_data_resampled = enlyze.get_timeseries_with_resampling(\n",
    "    start=start,\n",
    "    end=end,\n",
    "    variables={v: ResamplingMethod(\"avg\") for v in melt_pressures},\n",
    "    resampling_interval=600\n",
    ")\n",
    "\n",
    "data_resampled = ts_data_resampled.to_dataframe(use_display_names=True)"
   ]
  },
  {
   "cell_type": "code",
   "execution_count": 34,
   "id": "ca1b68ac-d0c0-45b7-aa4f-918c401ab171",
   "metadata": {},
   "outputs": [
    {
     "data": {
      "text/html": [
       "<div>\n",
       "<style scoped>\n",
       "    .dataframe tbody tr th:only-of-type {\n",
       "        vertical-align: middle;\n",
       "    }\n",
       "\n",
       "    .dataframe tbody tr th {\n",
       "        vertical-align: top;\n",
       "    }\n",
       "\n",
       "    .dataframe thead th {\n",
       "        text-align: right;\n",
       "    }\n",
       "</style>\n",
       "<table border=\"1\" class=\"dataframe\">\n",
       "  <thead>\n",
       "    <tr style=\"text-align: right;\">\n",
       "      <th></th>\n",
       "      <th>Extruder A Schmelzedruck</th>\n",
       "      <th>Extruder B Förderrate</th>\n",
       "      <th>Extruder A Durchsatz</th>\n",
       "      <th>Extruder A Folienstärke</th>\n",
       "      <th>Extruder A Schmelzetemperatur</th>\n",
       "      <th>Extruder B Folienstärke</th>\n",
       "      <th>Extruder B Schneckenumdrehung</th>\n",
       "      <th>Extruder B Schmelzedruck</th>\n",
       "      <th>Extruder A Schneckenumdrehung</th>\n",
       "      <th>Extruder B Durchsatz</th>\n",
       "      <th>Extruder A Förderrate</th>\n",
       "      <th>Extruder B Schmelzetemperatur</th>\n",
       "    </tr>\n",
       "    <tr>\n",
       "      <th>time</th>\n",
       "      <th></th>\n",
       "      <th></th>\n",
       "      <th></th>\n",
       "      <th></th>\n",
       "      <th></th>\n",
       "      <th></th>\n",
       "      <th></th>\n",
       "      <th></th>\n",
       "      <th></th>\n",
       "      <th></th>\n",
       "      <th></th>\n",
       "      <th></th>\n",
       "    </tr>\n",
       "  </thead>\n",
       "  <tbody>\n",
       "    <tr>\n",
       "      <th>2023-11-22 15:40:00+00:00</th>\n",
       "      <td>-10.833333</td>\n",
       "      <td>0.0</td>\n",
       "      <td>0.0</td>\n",
       "      <td>0.0</td>\n",
       "      <td>18.0</td>\n",
       "      <td>0.0</td>\n",
       "      <td>0.0</td>\n",
       "      <td>-6.944444</td>\n",
       "      <td>0.0</td>\n",
       "      <td>0.0</td>\n",
       "      <td>0.0</td>\n",
       "      <td>18.0</td>\n",
       "    </tr>\n",
       "    <tr>\n",
       "      <th>2023-11-22 15:50:00+00:00</th>\n",
       "      <td>-10.883333</td>\n",
       "      <td>0.0</td>\n",
       "      <td>0.0</td>\n",
       "      <td>0.0</td>\n",
       "      <td>18.0</td>\n",
       "      <td>0.0</td>\n",
       "      <td>0.0</td>\n",
       "      <td>-7.016667</td>\n",
       "      <td>0.0</td>\n",
       "      <td>0.0</td>\n",
       "      <td>0.0</td>\n",
       "      <td>18.0</td>\n",
       "    </tr>\n",
       "    <tr>\n",
       "      <th>2023-11-22 16:00:00+00:00</th>\n",
       "      <td>-10.933333</td>\n",
       "      <td>0.0</td>\n",
       "      <td>0.0</td>\n",
       "      <td>0.0</td>\n",
       "      <td>18.0</td>\n",
       "      <td>0.0</td>\n",
       "      <td>0.0</td>\n",
       "      <td>-7.000000</td>\n",
       "      <td>0.0</td>\n",
       "      <td>0.0</td>\n",
       "      <td>0.0</td>\n",
       "      <td>18.0</td>\n",
       "    </tr>\n",
       "    <tr>\n",
       "      <th>2023-11-22 16:10:00+00:00</th>\n",
       "      <td>-10.950000</td>\n",
       "      <td>0.0</td>\n",
       "      <td>0.0</td>\n",
       "      <td>0.0</td>\n",
       "      <td>18.0</td>\n",
       "      <td>0.0</td>\n",
       "      <td>0.0</td>\n",
       "      <td>-7.033333</td>\n",
       "      <td>0.0</td>\n",
       "      <td>0.0</td>\n",
       "      <td>0.0</td>\n",
       "      <td>18.0</td>\n",
       "    </tr>\n",
       "    <tr>\n",
       "      <th>2023-11-22 16:20:00+00:00</th>\n",
       "      <td>-10.933333</td>\n",
       "      <td>0.0</td>\n",
       "      <td>0.0</td>\n",
       "      <td>0.0</td>\n",
       "      <td>18.0</td>\n",
       "      <td>0.0</td>\n",
       "      <td>0.0</td>\n",
       "      <td>-7.000000</td>\n",
       "      <td>0.0</td>\n",
       "      <td>0.0</td>\n",
       "      <td>0.0</td>\n",
       "      <td>18.0</td>\n",
       "    </tr>\n",
       "  </tbody>\n",
       "</table>\n",
       "</div>"
      ],
      "text/plain": [
       "                           Extruder A Schmelzedruck  Extruder B Förderrate  \\\n",
       "time                                                                         \n",
       "2023-11-22 15:40:00+00:00                -10.833333                    0.0   \n",
       "2023-11-22 15:50:00+00:00                -10.883333                    0.0   \n",
       "2023-11-22 16:00:00+00:00                -10.933333                    0.0   \n",
       "2023-11-22 16:10:00+00:00                -10.950000                    0.0   \n",
       "2023-11-22 16:20:00+00:00                -10.933333                    0.0   \n",
       "\n",
       "                           Extruder A Durchsatz  Extruder A Folienstärke  \\\n",
       "time                                                                       \n",
       "2023-11-22 15:40:00+00:00                   0.0                      0.0   \n",
       "2023-11-22 15:50:00+00:00                   0.0                      0.0   \n",
       "2023-11-22 16:00:00+00:00                   0.0                      0.0   \n",
       "2023-11-22 16:10:00+00:00                   0.0                      0.0   \n",
       "2023-11-22 16:20:00+00:00                   0.0                      0.0   \n",
       "\n",
       "                           Extruder A Schmelzetemperatur  \\\n",
       "time                                                       \n",
       "2023-11-22 15:40:00+00:00                           18.0   \n",
       "2023-11-22 15:50:00+00:00                           18.0   \n",
       "2023-11-22 16:00:00+00:00                           18.0   \n",
       "2023-11-22 16:10:00+00:00                           18.0   \n",
       "2023-11-22 16:20:00+00:00                           18.0   \n",
       "\n",
       "                           Extruder B Folienstärke  \\\n",
       "time                                                 \n",
       "2023-11-22 15:40:00+00:00                      0.0   \n",
       "2023-11-22 15:50:00+00:00                      0.0   \n",
       "2023-11-22 16:00:00+00:00                      0.0   \n",
       "2023-11-22 16:10:00+00:00                      0.0   \n",
       "2023-11-22 16:20:00+00:00                      0.0   \n",
       "\n",
       "                           Extruder B Schneckenumdrehung  \\\n",
       "time                                                       \n",
       "2023-11-22 15:40:00+00:00                            0.0   \n",
       "2023-11-22 15:50:00+00:00                            0.0   \n",
       "2023-11-22 16:00:00+00:00                            0.0   \n",
       "2023-11-22 16:10:00+00:00                            0.0   \n",
       "2023-11-22 16:20:00+00:00                            0.0   \n",
       "\n",
       "                           Extruder B Schmelzedruck  \\\n",
       "time                                                  \n",
       "2023-11-22 15:40:00+00:00                 -6.944444   \n",
       "2023-11-22 15:50:00+00:00                 -7.016667   \n",
       "2023-11-22 16:00:00+00:00                 -7.000000   \n",
       "2023-11-22 16:10:00+00:00                 -7.033333   \n",
       "2023-11-22 16:20:00+00:00                 -7.000000   \n",
       "\n",
       "                           Extruder A Schneckenumdrehung  \\\n",
       "time                                                       \n",
       "2023-11-22 15:40:00+00:00                            0.0   \n",
       "2023-11-22 15:50:00+00:00                            0.0   \n",
       "2023-11-22 16:00:00+00:00                            0.0   \n",
       "2023-11-22 16:10:00+00:00                            0.0   \n",
       "2023-11-22 16:20:00+00:00                            0.0   \n",
       "\n",
       "                           Extruder B Durchsatz  Extruder A Förderrate  \\\n",
       "time                                                                     \n",
       "2023-11-22 15:40:00+00:00                   0.0                    0.0   \n",
       "2023-11-22 15:50:00+00:00                   0.0                    0.0   \n",
       "2023-11-22 16:00:00+00:00                   0.0                    0.0   \n",
       "2023-11-22 16:10:00+00:00                   0.0                    0.0   \n",
       "2023-11-22 16:20:00+00:00                   0.0                    0.0   \n",
       "\n",
       "                           Extruder B Schmelzetemperatur  \n",
       "time                                                      \n",
       "2023-11-22 15:40:00+00:00                           18.0  \n",
       "2023-11-22 15:50:00+00:00                           18.0  \n",
       "2023-11-22 16:00:00+00:00                           18.0  \n",
       "2023-11-22 16:10:00+00:00                           18.0  \n",
       "2023-11-22 16:20:00+00:00                           18.0  "
      ]
     },
     "execution_count": 34,
     "metadata": {},
     "output_type": "execute_result"
    }
   ],
   "source": [
    "data_resampled.head()"
   ]
  },
  {
   "cell_type": "markdown",
   "id": "609024e5-d407-49f8-9f28-0aa81463ca7f",
   "metadata": {},
   "source": [
    "### Data preparation and exploration\n",
    "\n",
    "Data preparation and exploration is a bigger topic that will be covered in later tutorials, but here are a few examples of how to get started. "
   ]
  },
  {
   "cell_type": "code",
   "execution_count": 35,
   "id": "d05a9b60-e954-416e-9258-d96084281d6f",
   "metadata": {},
   "outputs": [],
   "source": [
    "# quick step to sort the columns alphabetically\n",
    "data_resampled = data_resampled[sorted(data_resampled.columns)]"
   ]
  },
  {
   "cell_type": "code",
   "execution_count": 36,
   "id": "8f7fc1a4-b41e-48b9-b402-18d429f2c550",
   "metadata": {},
   "outputs": [],
   "source": [
    "# reset index and convert time to local timezone\n",
    "data_resampled = data_resampled.reset_index()\n",
    "data_resampled[\"time\"] = data_resampled[\"time\"].dt.tz_convert(\"Europe/Berlin\")"
   ]
  },
  {
   "cell_type": "markdown",
   "id": "f9223dfd-bbf6-4057-a4c8-791adac84e6a",
   "metadata": {},
   "source": [
    "#### Simple plot"
   ]
  },
  {
   "cell_type": "code",
   "execution_count": 37,
   "id": "b678e183-e184-426f-bfd0-447fab8cc841",
   "metadata": {},
   "outputs": [
    {
     "data": {
      "image/png": "[encoded data removed]",
      "text/plain": [
       "<Figure size 2000x500 with 1 Axes>"
      ]
     },
     "metadata": {},
     "output_type": "display_data"
    }
   ],
   "source": [
    "fig, ax = plt.subplots(1, 1, figsize=(20,5))\n",
    "data_resampled.plot(x=\"time\", ax=ax);"
   ]
  },
  {
   "cell_type": "markdown",
   "id": "809202b5-b86b-4f2e-8695-af1167e33c82",
   "metadata": {},
   "source": [
    "#### Subplots"
   ]
  },
  {
   "cell_type": "code",
   "execution_count": 38,
   "id": "dcc24cf2-2d0f-4846-a2df-786c478eb342",
   "metadata": {},
   "outputs": [
    {
     "data": {
      "image/png": "[encoded data removed]",
      "text/plain": [
       "<Figure size 2000x1200 with 6 Axes>"
      ]
     },
     "metadata": {},
     "output_type": "display_data"
    }
   ],
   "source": [
    "y_values = [col for col in data_resampled.columns if \"Extruder A\" in col]\n",
    "\n",
    "rows = len(y_values) \n",
    "cols = 1\n",
    "\n",
    "fig, axes = plt.subplots(rows, cols, figsize=(20, 2*rows), sharex=True)\n",
    "\n",
    "for i, col in enumerate(y_values):\n",
    "    data_resampled.plot(x=\"time\", y=col, ax=axes[i])"
   ]
  },
  {
   "cell_type": "markdown",
   "id": "5f237b06-8e03-4f46-8f4e-a99486d8aff5",
   "metadata": {},
   "source": [
    "#### Pairplots"
   ]
  },
  {
   "cell_type": "code",
   "execution_count": 39,
   "id": "780a9b10-2ca0-40d3-8d4a-3b7db7715bab",
   "metadata": {},
   "outputs": [
    {
     "data": {
      "image/png": "[encoded data removed]",
      "text/plain": [
       "<Figure size 500x500 with 6 Axes>"
      ]
     },
     "metadata": {},
     "output_type": "display_data"
    }
   ],
   "source": [
    "sns.set_theme(style=\"ticks\")\n",
    "\n",
    "columns = [col for col in data_resampled.columns if \"Durchsatz\" in col]\n",
    "\n",
    "sns.pairplot(data_resampled[columns]);"
   ]
  },
  {
   "cell_type": "markdown",
   "id": "40ec502a-9ce0-4fdc-be44-b114a1564580",
   "metadata": {},
   "source": [
    "## Production runs\n",
    "If your production runs are integrated to the ENLYZE Platform, you can also use the `EnlyzeClient` to query them, alongside the calculated OEE metrics per run.\n",
    "You can fetch all runs at once or use filters to fetch runs specific product, orders, appliances or within a certain time range."
   ]
  },
  {
   "cell_type": "markdown",
   "id": "1b25c5f8-82b6-40b3-aef4-ee5058d61842",
   "metadata": {},
   "source": [
    "We will use our previously selected appliance from above to filter the runs. Since this is a demo account, the KPIs are not meaningful, but this should give you a good idea of the data and what is possible."
   ]
  },
  {
   "cell_type": "code",
   "execution_count": 40,
   "id": "1da46a78-75d2-41f2-9447-56c4486d0e4f",
   "metadata": {},
   "outputs": [],
   "source": [
    "runs = enlyze.get_production_runs(appliance=appliance)"
   ]
  },
  {
   "cell_type": "markdown",
   "id": "8086ac26-d0b9-4ec9-bf9b-6b0e26697725",
   "metadata": {},
   "source": [
    "Unlike the time series data or the appliances, the runs are returned as a `enlyze.models.ProductionRuns` model. This model as a `to_dataframe` method, which conveniently converts the runs into a pandas DataFrame for us."
   ]
  },
  {
   "cell_type": "code",
   "execution_count": 41,
   "id": "7bc79a88-14ed-4ee0-8704-0d3b79ce5673",
   "metadata": {},
   "outputs": [
    {
     "data": {
      "text/plain": [
       "enlyze.models.ProductionRuns"
      ]
     },
     "execution_count": 41,
     "metadata": {},
     "output_type": "execute_result"
    }
   ],
   "source": [
    "type(runs)"
   ]
  },
  {
   "cell_type": "code",
   "execution_count": 42,
   "id": "ae8eba18-ed77-4594-b722-c295947c9121",
   "metadata": {},
   "outputs": [
    {
     "data": {
      "text/html": [
       "<div>\n",
       "<style scoped>\n",
       "    .dataframe tbody tr th:only-of-type {\n",
       "        vertical-align: middle;\n",
       "    }\n",
       "\n",
       "    .dataframe tbody tr th {\n",
       "        vertical-align: top;\n",
       "    }\n",
       "\n",
       "    .dataframe thead th {\n",
       "        text-align: right;\n",
       "    }\n",
       "</style>\n",
       "<table border=\"1\" class=\"dataframe\">\n",
       "  <thead>\n",
       "    <tr style=\"text-align: right;\">\n",
       "      <th></th>\n",
       "      <th>uuid</th>\n",
       "      <th>average_throughput</th>\n",
       "      <th>production_order</th>\n",
       "      <th>start</th>\n",
       "      <th>end</th>\n",
       "      <th>quantity_total</th>\n",
       "      <th>quantity_yield</th>\n",
       "      <th>availability</th>\n",
       "      <th>performance</th>\n",
       "      <th>quality</th>\n",
       "      <th>...</th>\n",
       "      <th>quantity_yield.value</th>\n",
       "      <th>availability.score</th>\n",
       "      <th>availability.time_loss</th>\n",
       "      <th>performance.score</th>\n",
       "      <th>performance.time_loss</th>\n",
       "      <th>quality.score</th>\n",
       "      <th>quality.time_loss</th>\n",
       "      <th>productivity.score</th>\n",
       "      <th>productivity.time_loss</th>\n",
       "      <th>quantity_scrap</th>\n",
       "    </tr>\n",
       "  </thead>\n",
       "  <tbody>\n",
       "    <tr>\n",
       "      <th>0</th>\n",
       "      <td>99245861-840e-42f6-9888-494339e88eb4</td>\n",
       "      <td>NaN</td>\n",
       "      <td>FA-0A5A-1</td>\n",
       "      <td>2022-03-18 00:13:08+00:00</td>\n",
       "      <td>2022-03-18 01:16:09+00:00</td>\n",
       "      <td>NaN</td>\n",
       "      <td>NaN</td>\n",
       "      <td>NaN</td>\n",
       "      <td>NaN</td>\n",
       "      <td>NaN</td>\n",
       "      <td>...</td>\n",
       "      <td>NaN</td>\n",
       "      <td>NaN</td>\n",
       "      <td>NaT</td>\n",
       "      <td>NaN</td>\n",
       "      <td>NaT</td>\n",
       "      <td>NaN</td>\n",
       "      <td>NaT</td>\n",
       "      <td>NaN</td>\n",
       "      <td>NaT</td>\n",
       "      <td>NaN</td>\n",
       "    </tr>\n",
       "    <tr>\n",
       "      <th>1</th>\n",
       "      <td>3756a10c-b564-42bb-83f1-5f5d6aba6d30</td>\n",
       "      <td>230.552952</td>\n",
       "      <td>FA-0A5A-2</td>\n",
       "      <td>2022-03-18 01:16:19+00:00</td>\n",
       "      <td>2022-03-18 18:41:55+00:00</td>\n",
       "      <td>NaN</td>\n",
       "      <td>NaN</td>\n",
       "      <td>NaN</td>\n",
       "      <td>NaN</td>\n",
       "      <td>NaN</td>\n",
       "      <td>...</td>\n",
       "      <td>3236.319444</td>\n",
       "      <td>1.000000</td>\n",
       "      <td>0 days 00:00:00</td>\n",
       "      <td>0.384255</td>\n",
       "      <td>0 days 08:38:36</td>\n",
       "      <td>0.805502</td>\n",
       "      <td>0 days 03:23:22</td>\n",
       "      <td>0.309518</td>\n",
       "      <td>0 days 12:01:58</td>\n",
       "      <td>NaN</td>\n",
       "    </tr>\n",
       "    <tr>\n",
       "      <th>2</th>\n",
       "      <td>1366390c-a1c5-4fc3-a4f5-74ade57e118d</td>\n",
       "      <td>459.256323</td>\n",
       "      <td>FA-0A5A-3</td>\n",
       "      <td>2022-03-18 18:42:01+00:00</td>\n",
       "      <td>2022-03-19 06:38:57+00:00</td>\n",
       "      <td>NaN</td>\n",
       "      <td>NaN</td>\n",
       "      <td>NaN</td>\n",
       "      <td>NaN</td>\n",
       "      <td>NaN</td>\n",
       "      <td>...</td>\n",
       "      <td>5107.452778</td>\n",
       "      <td>1.000000</td>\n",
       "      <td>0 days 00:00:00</td>\n",
       "      <td>0.907621</td>\n",
       "      <td>0 days 01:01:38</td>\n",
       "      <td>0.930726</td>\n",
       "      <td>0 days 00:49:39</td>\n",
       "      <td>0.844746</td>\n",
       "      <td>0 days 01:51:17</td>\n",
       "      <td>NaN</td>\n",
       "    </tr>\n",
       "    <tr>\n",
       "      <th>3</th>\n",
       "      <td>98de1da6-69c5-4afa-bd0f-1c1f52440a8b</td>\n",
       "      <td>486.231561</td>\n",
       "      <td>FA-0A5A-4</td>\n",
       "      <td>2022-03-19 06:39:04+00:00</td>\n",
       "      <td>2022-03-20 22:34:24+00:00</td>\n",
       "      <td>NaN</td>\n",
       "      <td>NaN</td>\n",
       "      <td>NaN</td>\n",
       "      <td>NaN</td>\n",
       "      <td>NaN</td>\n",
       "      <td>...</td>\n",
       "      <td>18144.694444</td>\n",
       "      <td>1.000000</td>\n",
       "      <td>0 days 00:00:00</td>\n",
       "      <td>0.809038</td>\n",
       "      <td>0 days 07:07:34</td>\n",
       "      <td>0.934742</td>\n",
       "      <td>0 days 02:36:18</td>\n",
       "      <td>0.756241</td>\n",
       "      <td>0 days 09:43:52</td>\n",
       "      <td>NaN</td>\n",
       "    </tr>\n",
       "    <tr>\n",
       "      <th>4</th>\n",
       "      <td>b9efc595-ceb7-424f-99b0-f47d2d588cfe</td>\n",
       "      <td>499.188133</td>\n",
       "      <td>FA-0A5A-5</td>\n",
       "      <td>2022-03-20 22:34:30+00:00</td>\n",
       "      <td>2022-03-22 15:33:14+00:00</td>\n",
       "      <td>NaN</td>\n",
       "      <td>NaN</td>\n",
       "      <td>NaN</td>\n",
       "      <td>NaN</td>\n",
       "      <td>NaN</td>\n",
       "      <td>...</td>\n",
       "      <td>19749.269444</td>\n",
       "      <td>0.999187</td>\n",
       "      <td>0 days 00:01:59</td>\n",
       "      <td>0.818341</td>\n",
       "      <td>0 days 07:10:52</td>\n",
       "      <td>0.965443</td>\n",
       "      <td>0 days 01:24:53</td>\n",
       "      <td>0.789419</td>\n",
       "      <td>0 days 08:37:44</td>\n",
       "      <td>NaN</td>\n",
       "    </tr>\n",
       "  </tbody>\n",
       "</table>\n",
       "<p>5 rows × 34 columns</p>\n",
       "</div>"
      ],
      "text/plain": [
       "                                   uuid  average_throughput production_order  \\\n",
       "0  99245861-840e-42f6-9888-494339e88eb4                 NaN        FA-0A5A-1   \n",
       "1  3756a10c-b564-42bb-83f1-5f5d6aba6d30          230.552952        FA-0A5A-2   \n",
       "2  1366390c-a1c5-4fc3-a4f5-74ade57e118d          459.256323        FA-0A5A-3   \n",
       "3  98de1da6-69c5-4afa-bd0f-1c1f52440a8b          486.231561        FA-0A5A-4   \n",
       "4  b9efc595-ceb7-424f-99b0-f47d2d588cfe          499.188133        FA-0A5A-5   \n",
       "\n",
       "                      start                       end  quantity_total  \\\n",
       "0 2022-03-18 00:13:08+00:00 2022-03-18 01:16:09+00:00             NaN   \n",
       "1 2022-03-18 01:16:19+00:00 2022-03-18 18:41:55+00:00             NaN   \n",
       "2 2022-03-18 18:42:01+00:00 2022-03-19 06:38:57+00:00             NaN   \n",
       "3 2022-03-19 06:39:04+00:00 2022-03-20 22:34:24+00:00             NaN   \n",
       "4 2022-03-20 22:34:30+00:00 2022-03-22 15:33:14+00:00             NaN   \n",
       "\n",
       "   quantity_yield  availability  performance  quality  ...  \\\n",
       "0             NaN           NaN          NaN      NaN  ...   \n",
       "1             NaN           NaN          NaN      NaN  ...   \n",
       "2             NaN           NaN          NaN      NaN  ...   \n",
       "3             NaN           NaN          NaN      NaN  ...   \n",
       "4             NaN           NaN          NaN      NaN  ...   \n",
       "\n",
       "   quantity_yield.value availability.score availability.time_loss  \\\n",
       "0                   NaN                NaN                    NaT   \n",
       "1           3236.319444           1.000000        0 days 00:00:00   \n",
       "2           5107.452778           1.000000        0 days 00:00:00   \n",
       "3          18144.694444           1.000000        0 days 00:00:00   \n",
       "4          19749.269444           0.999187        0 days 00:01:59   \n",
       "\n",
       "  performance.score  performance.time_loss quality.score quality.time_loss  \\\n",
       "0               NaN                    NaT           NaN               NaT   \n",
       "1          0.384255        0 days 08:38:36      0.805502   0 days 03:23:22   \n",
       "2          0.907621        0 days 01:01:38      0.930726   0 days 00:49:39   \n",
       "3          0.809038        0 days 07:07:34      0.934742   0 days 02:36:18   \n",
       "4          0.818341        0 days 07:10:52      0.965443   0 days 01:24:53   \n",
       "\n",
       "  productivity.score productivity.time_loss quantity_scrap  \n",
       "0                NaN                    NaT            NaN  \n",
       "1           0.309518        0 days 12:01:58            NaN  \n",
       "2           0.844746        0 days 01:51:17            NaN  \n",
       "3           0.756241        0 days 09:43:52            NaN  \n",
       "4           0.789419        0 days 08:37:44            NaN  \n",
       "\n",
       "[5 rows x 34 columns]"
      ]
     },
     "execution_count": 42,
     "metadata": {},
     "output_type": "execute_result"
    }
   ],
   "source": [
    "runs_df = runs.to_dataframe()\n",
    "runs_df.head()"
   ]
  },
  {
   "cell_type": "markdown",
   "id": "bdab41a4-3558-49a9-8a0b-613d828ddb7f",
   "metadata": {},
   "source": [
    "## Exporting Data"
   ]
  },
  {
   "cell_type": "markdown",
   "id": "352d7f7d-e41e-4a3d-8b47-33bcde4bcd99",
   "metadata": {},
   "source": [
    "Pandas DataFrames can be exported to many different data formats. For a full list of supported methods, you can check out the [IO tools](https://pandas.pydata.org/docs/user_guide/io.html#io) section of the pandas documentation or the [Importing and exporting data](https://pandas.pydata.org/docs/user_guide/10min.html#importing-and-exporting-data) part of the **10 minutes to pandas** guide."
   ]
  },
  {
   "cell_type": "markdown",
   "id": "b7648dcc-ec46-4f1f-80c8-43c6b5ea2ae4",
   "metadata": {},
   "source": [
    "### To CSV\n",
    "\n",
    "Probably the most used method and quite straightforward:"
   ]
  },
  {
   "cell_type": "code",
   "execution_count": null,
   "id": "9afb2b53-0528-4f42-bba7-dfd2b44a357b",
   "metadata": {},
   "outputs": [],
   "source": [
    "# path to directory with filename\n",
    "runs_df.to_csv(\"./filename.csv\")"
   ]
  },
  {
   "cell_type": "markdown",
   "id": "1c772885-39dc-4be7-83b5-628357069ed3",
   "metadata": {},
   "source": [
    "If a different separator or decimal character is required, they can be specified in the export method.\n",
    "\n",
    "A full, detailed list of all the options can be found [here](https://pandas.pydata.org/docs/reference/api/pandas.DataFrame.to_csv.html). Specifying the separator and the decimal character is especially useful when opening the file in German Excel."
   ]
  },
  {
   "cell_type": "code",
   "execution_count": null,
   "id": "bce5ebd8-9e1b-4cdf-8771-741ecfb8a32e",
   "metadata": {},
   "outputs": [],
   "source": [
    "runs_df.to_csv(\"./filename.csv\", sep=\";\", decimal=\",\", index=False)"
   ]
  },
  {
   "cell_type": "markdown",
   "id": "505dbb46-cf71-4126-9ea7-2e2f7ef056a6",
   "metadata": {},
   "source": [
    "### Excel and Power BI"
   ]
  },
  {
   "cell_type": "markdown",
   "id": "f614084c-99c0-42d7-b1d1-b2a622306f66",
   "metadata": {},
   "source": [
    "<div class=\"alert alert-block alert-info\">\n",
    "<b>Note:</b> Excel and Power BI don't support all Python data types.\n",
    "</div>"
   ]
  },
  {
   "attachments": {},
   "cell_type": "markdown",
   "id": "84ec8124-28ef-4488-aef5-620c1e38868a",
   "metadata": {},
   "source": [
    "There is an option to directly save the data as an Excel file. This requires the additional `openpyxl` package, which can be easily installed via pip:\n",
    "\n",
    "    pip install openpyxl\n",
    "\n",
    "If you use the [Python Scripts](https://learn.microsoft.com/de-de/power-bi/connect-data/desktop-python-scripts) data connector in Power BI to load data into Power BI, you can directly use the API but need to convert the unsupported data types before returning the DataFrame.\n",
    "\n",
    "To avoid errors or false data representations, some Python data types need to be converted to supported types. Excel and Power BI don't support timestamps with time zone information and timedeltas. You can use the `DataFrame.info()` method, to see which data types your DataFrame contains."
   ]
  },
  {
   "cell_type": "code",
   "execution_count": 43,
   "id": "71534943-20b0-42bd-9d9a-ded3d4e129f4",
   "metadata": {},
   "outputs": [
    {
     "name": "stdout",
     "output_type": "stream",
     "text": [
      "<class 'pandas.core.frame.DataFrame'>\n",
      "RangeIndex: 227 entries, 0 to 226\n",
      "Data columns (total 34 columns):\n",
      " #   Column                       Non-Null Count  Dtype              \n",
      "---  ------                       --------------  -----              \n",
      " 0   uuid                         227 non-null    object             \n",
      " 1   average_throughput           217 non-null    float64            \n",
      " 2   production_order             227 non-null    object             \n",
      " 3   start                        227 non-null    datetime64[ns, UTC]\n",
      " 4   end                          226 non-null    datetime64[ns, UTC]\n",
      " 5   quantity_total               0 non-null      float64            \n",
      " 6   quantity_yield               0 non-null      float64            \n",
      " 7   availability                 0 non-null      float64            \n",
      " 8   performance                  0 non-null      float64            \n",
      " 9   quality                      0 non-null      float64            \n",
      " 10  productivity                 0 non-null      float64            \n",
      " 11  appliance.uuid               227 non-null    object             \n",
      " 12  appliance.display_name       227 non-null    object             \n",
      " 13  appliance.genesis_date       227 non-null    object             \n",
      " 14  appliance.site._id           227 non-null    int64              \n",
      " 15  appliance.site.display_name  227 non-null    object             \n",
      " 16  appliance.site.address       227 non-null    object             \n",
      " 17  product.code                 227 non-null    object             \n",
      " 18  product.name                 0 non-null      object             \n",
      " 19  quantity_scrap.unit          213 non-null    object             \n",
      " 20  quantity_scrap.value         213 non-null    float64            \n",
      " 21  quantity_total.unit          221 non-null    object             \n",
      " 22  quantity_total.value         221 non-null    float64            \n",
      " 23  quantity_yield.unit          208 non-null    object             \n",
      " 24  quantity_yield.value         208 non-null    float64            \n",
      " 25  availability.score           217 non-null    float64            \n",
      " 26  availability.time_loss       217 non-null    timedelta64[ns]    \n",
      " 27  performance.score            217 non-null    float64            \n",
      " 28  performance.time_loss        217 non-null    timedelta64[ns]    \n",
      " 29  quality.score                204 non-null    float64            \n",
      " 30  quality.time_loss            204 non-null    timedelta64[ns]    \n",
      " 31  productivity.score           204 non-null    float64            \n",
      " 32  productivity.time_loss       204 non-null    timedelta64[ns]    \n",
      " 33  quantity_scrap               0 non-null      float64            \n",
      "dtypes: datetime64[ns, UTC](2), float64(15), int64(1), object(12), timedelta64[ns](4)\n",
      "memory usage: 60.4+ KB\n"
     ]
    }
   ],
   "source": [
    "runs_df.info()"
   ]
  },
  {
   "cell_type": "markdown",
   "id": "0806290e-36d6-49d9-867d-c7ee6a9ed87f",
   "metadata": {},
   "source": [
    "**Removing timezone information:**\n",
    "\n",
    "To remove the time zone information, we will first convert the timestamp to the desired time zone (if it's UTC, than this can be skipped) and then remove the timezone information, making them timezone naive."
   ]
  },
  {
   "cell_type": "code",
   "execution_count": 44,
   "id": "514652f5-283e-46ef-9150-f159ebdee339",
   "metadata": {},
   "outputs": [],
   "source": [
    "# convert timestamps to local time zone\n",
    "runs_df[\"start\"] = runs_df[\"start\"].dt.tz_convert(\"Europe/Berlin\")\n",
    "runs_df[\"end\"] = runs_df[\"end\"].dt.tz_convert(\"Europe/Berlin\")\n",
    "\n",
    "# remove time zone information\n",
    "runs_df[\"start\"] = runs_df[\"start\"].dt.tz_localize(None)\n",
    "runs_df[\"end\"] = runs_df[\"end\"].dt.tz_localize(None)"
   ]
  },
  {
   "cell_type": "markdown",
   "id": "add2d1cf-6f83-432c-9b76-9bedea7b97c3",
   "metadata": {},
   "source": [
    "**Convert timedeltas into total_seconds:**\n",
    "\n",
    "The timedelta datatype is best transformed into the total seconds equivalent of the duration. From there, it can be converted to other proprietary data types."
   ]
  },
  {
   "cell_type": "code",
   "execution_count": 45,
   "id": "dceb8113-5985-4861-9560-24c34e1bf6c6",
   "metadata": {},
   "outputs": [],
   "source": [
    "runs_df[\"availability.time_loss\"] = runs_df[\"availability.time_loss\"].dt.total_seconds()\n",
    "runs_df[\"performance.time_loss\"] = runs_df[\"performance.time_loss\"].dt.total_seconds()\n",
    "runs_df[\"quality.time_loss\"] = runs_df[\"quality.time_loss\"].dt.total_seconds()\n",
    "runs_df[\"productivity.time_loss\"] = runs_df[\"productivity.time_loss\"].dt.total_seconds()"
   ]
  },
  {
   "cell_type": "code",
   "execution_count": 46,
   "id": "9051d479-3fbb-4337-964e-91cc5e49833b",
   "metadata": {},
   "outputs": [
    {
     "name": "stdout",
     "output_type": "stream",
     "text": [
      "<class 'pandas.core.frame.DataFrame'>\n",
      "RangeIndex: 227 entries, 0 to 226\n",
      "Data columns (total 34 columns):\n",
      " #   Column                       Non-Null Count  Dtype         \n",
      "---  ------                       --------------  -----         \n",
      " 0   uuid                         227 non-null    object        \n",
      " 1   average_throughput           217 non-null    float64       \n",
      " 2   production_order             227 non-null    object        \n",
      " 3   start                        227 non-null    datetime64[ns]\n",
      " 4   end                          226 non-null    datetime64[ns]\n",
      " 5   quantity_total               0 non-null      float64       \n",
      " 6   quantity_yield               0 non-null      float64       \n",
      " 7   availability                 0 non-null      float64       \n",
      " 8   performance                  0 non-null      float64       \n",
      " 9   quality                      0 non-null      float64       \n",
      " 10  productivity                 0 non-null      float64       \n",
      " 11  appliance.uuid               227 non-null    object        \n",
      " 12  appliance.display_name       227 non-null    object        \n",
      " 13  appliance.genesis_date       227 non-null    object        \n",
      " 14  appliance.site._id           227 non-null    int64         \n",
      " 15  appliance.site.display_name  227 non-null    object        \n",
      " 16  appliance.site.address       227 non-null    object        \n",
      " 17  product.code                 227 non-null    object        \n",
      " 18  product.name                 0 non-null      object        \n",
      " 19  quantity_scrap.unit          213 non-null    object        \n",
      " 20  quantity_scrap.value         213 non-null    float64       \n",
      " 21  quantity_total.unit          221 non-null    object        \n",
      " 22  quantity_total.value         221 non-null    float64       \n",
      " 23  quantity_yield.unit          208 non-null    object        \n",
      " 24  quantity_yield.value         208 non-null    float64       \n",
      " 25  availability.score           217 non-null    float64       \n",
      " 26  availability.time_loss       217 non-null    float64       \n",
      " 27  performance.score            217 non-null    float64       \n",
      " 28  performance.time_loss        217 non-null    float64       \n",
      " 29  quality.score                204 non-null    float64       \n",
      " 30  quality.time_loss            204 non-null    float64       \n",
      " 31  productivity.score           204 non-null    float64       \n",
      " 32  productivity.time_loss       204 non-null    float64       \n",
      " 33  quantity_scrap               0 non-null      float64       \n",
      "dtypes: datetime64[ns](2), float64(19), int64(1), object(12)\n",
      "memory usage: 60.4+ KB\n"
     ]
    }
   ],
   "source": [
    "runs_df.info()"
   ]
  },
  {
   "cell_type": "markdown",
   "id": "51d8d167-3bc4-44f5-acf5-576f85bc4d0d",
   "metadata": {},
   "source": [
    "With the necessary data transformations done, the DataFrame can now be saved as an Excel file or is ready to be returned back to Power BI"
   ]
  },
  {
   "cell_type": "code",
   "execution_count": null,
   "id": "9525437a-28a3-4811-9163-f7e4c075d72e",
   "metadata": {},
   "outputs": [],
   "source": [
    "runs_df.to_excel(\"./filename.xlsx\")"
   ]
  },
  {
   "cell_type": "markdown",
   "id": "030dc29e-ba51-4413-bd34-e9301e87049d",
   "metadata": {},
   "source": [
    "🎉 This is it for now. Thank you for reading, and please [reach out to us](<mailto:support@enlyze.com>) if you have questions or would like us to cover a certain topic.  \n",
    "Best  \n",
    "Clemens"
   ]
  }
 ],
 "metadata": {
  "kernelspec": {
   "display_name": "Python 3 (ipykernel)",
   "language": "python",
   "name": "python3"
  },
  "language_info": {
   "codemirror_mode": {
    "name": "ipython",
    "version": 3
   },
   "file_extension": ".py",
   "mimetype": "text/x-python",
   "name": "python",
   "nbconvert_exporter": "python",
   "pygments_lexer": "ipython3",
   "version": "3.11.6"
  }
 },
 "nbformat": 4,
 "nbformat_minor": 5
}
